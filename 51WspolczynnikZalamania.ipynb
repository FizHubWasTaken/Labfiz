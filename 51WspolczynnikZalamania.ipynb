{
  "nbformat": 4,
  "nbformat_minor": 0,
  "metadata": {
    "colab": {
      "name": "mikroskop.ipynb",
      "provenance": [],
      "collapsed_sections": [],
      "authorship_tag": "ABX9TyMMlqkbZoANQ5/+pNNbrtfh",
      "include_colab_link": true
    },
    "kernelspec": {
      "name": "python3",
      "display_name": "Python 3"
    }
  },
  "cells": [
    {
      "cell_type": "markdown",
      "metadata": {
        "id": "view-in-github",
        "colab_type": "text"
      },
      "source": [
        "<a href=\"https://colab.research.google.com/github/FizHubWasTaken/Labfiz/blob/main/51WspolczynnikZalamania.ipynb\" target=\"_parent\"><img src=\"https://colab.research.google.com/assets/colab-badge.svg\" alt=\"Open In Colab\"/></a>"
      ]
    },
    {
      "cell_type": "code",
      "metadata": {
        "id": "7yMOJKuro0vX"
      },
      "source": [
        "import numpy as np\n",
        "import pandas as pd\n",
        "import matplotlib.pyplot as plt\n"
      ],
      "execution_count": 265,
      "outputs": []
    },
    {
      "cell_type": "code",
      "metadata": {
        "id": "hcD7-PiFu9uP"
      },
      "source": [
        "def extract(string):\n",
        "  lst = string.replace(\",\",\".\").split()\n",
        "  return [1e-3 * float(i) for i in lst]"
      ],
      "execution_count": 266,
      "outputs": []
    },
    {
      "cell_type": "code",
      "metadata": {
        "id": "N792Hskuu_HF"
      },
      "source": [
        "def create_table(a_d, a_g):\n",
        "  labels = [\n",
        "          'odczyt dół a_d[m]',\n",
        "          'odczyt góra a_g[m]',\n",
        "  ]\n",
        "  a_d = extract(a_d)\n",
        "  a_g = extract(a_g)\n",
        "  dict = {}\n",
        "  for i, item in enumerate((a_d, a_g)):\n",
        "    dict[labels[i]] = item\n",
        "  tab = pd.DataFrame(dict)\n",
        "  tab[\"grubość pozorna h[m]\"] = tab['odczyt góra a_g[m]'] - tab['odczyt dół a_d[m]']\n",
        "  #print(tab)\n",
        "  return tab"
      ],
      "execution_count": 267,
      "outputs": []
    },
    {
      "cell_type": "code",
      "metadata": {
        "id": "134tXi6FvrCQ"
      },
      "source": [
        "def u(d, h, ud, uh):\n",
        "  u1 = ud/h\n",
        "  u2 = -d/h**2 * uh\n",
        "  return (u1**2 + u2 ** 2) ** 0.5"
      ],
      "execution_count": 268,
      "outputs": []
    },
    {
      "cell_type": "code",
      "metadata": {
        "id": "630AFoZtwcIs"
      },
      "source": [
        "def calc(tab, d, ud):\n",
        "  h = tab['grubość pozorna h[m]'].mean() # grubość pozorna\n",
        "  uh = tab['grubość pozorna h[m]'].std() # niepewność pomiaru\n",
        "  n = d/h # współczynnik załamania\n",
        "  un = u(d, h, ud, uh) # niepewność wyniku\n",
        "  return n, un"
      ],
      "execution_count": 269,
      "outputs": []
    },
    {
      "cell_type": "markdown",
      "metadata": {
        "id": "-SMmdc4lpwI6"
      },
      "source": [
        "##Materiał 1: Pleksi"
      ]
    },
    {
      "cell_type": "code",
      "metadata": {
        "id": "3sCoHSJFpWGn"
      },
      "source": [
        "d = 4.93e-3 #Grubość rzeczywista\n",
        "ud = 1e-5"
      ],
      "execution_count": 270,
      "outputs": []
    },
    {
      "cell_type": "code",
      "metadata": {
        "id": "B-BTn_KHqG9Z"
      },
      "source": [
        "tab1 = create_table(\"\"\"4,78\n",
        "4,74\n",
        "4,78\n",
        "4,81\n",
        "4,79\n",
        "4,78\n",
        "4,80\n",
        "4,79\n",
        "4,75\n",
        "4,79\"\"\", \"\"\"8,02\n",
        "8,07\n",
        "8,04\n",
        "8,06\n",
        "8,01\n",
        "8,08\n",
        "8,06\n",
        "8,02\n",
        "8,06\n",
        "8,05\"\"\")"
      ],
      "execution_count": 271,
      "outputs": []
    },
    {
      "cell_type": "code",
      "metadata": {
        "colab": {
          "base_uri": "https://localhost:8080/",
          "height": 343
        },
        "id": "EBfyPs8Jqzob",
        "outputId": "75e1151f-a55b-4808-c7fc-c9d730e95e6a"
      },
      "source": [
        "tab1"
      ],
      "execution_count": 272,
      "outputs": [
        {
          "output_type": "execute_result",
          "data": {
            "text/html": [
              "<div>\n",
              "<style scoped>\n",
              "    .dataframe tbody tr th:only-of-type {\n",
              "        vertical-align: middle;\n",
              "    }\n",
              "\n",
              "    .dataframe tbody tr th {\n",
              "        vertical-align: top;\n",
              "    }\n",
              "\n",
              "    .dataframe thead th {\n",
              "        text-align: right;\n",
              "    }\n",
              "</style>\n",
              "<table border=\"1\" class=\"dataframe\">\n",
              "  <thead>\n",
              "    <tr style=\"text-align: right;\">\n",
              "      <th></th>\n",
              "      <th>odczyt dół a_d[m]</th>\n",
              "      <th>odczyt góra a_g[m]</th>\n",
              "      <th>grubość pozorna h[m]</th>\n",
              "    </tr>\n",
              "  </thead>\n",
              "  <tbody>\n",
              "    <tr>\n",
              "      <th>0</th>\n",
              "      <td>0.00</td>\n",
              "      <td>0.01</td>\n",
              "      <td>0.00</td>\n",
              "    </tr>\n",
              "    <tr>\n",
              "      <th>1</th>\n",
              "      <td>0.00</td>\n",
              "      <td>0.01</td>\n",
              "      <td>0.00</td>\n",
              "    </tr>\n",
              "    <tr>\n",
              "      <th>2</th>\n",
              "      <td>0.00</td>\n",
              "      <td>0.01</td>\n",
              "      <td>0.00</td>\n",
              "    </tr>\n",
              "    <tr>\n",
              "      <th>3</th>\n",
              "      <td>0.00</td>\n",
              "      <td>0.01</td>\n",
              "      <td>0.00</td>\n",
              "    </tr>\n",
              "    <tr>\n",
              "      <th>4</th>\n",
              "      <td>0.00</td>\n",
              "      <td>0.01</td>\n",
              "      <td>0.00</td>\n",
              "    </tr>\n",
              "    <tr>\n",
              "      <th>5</th>\n",
              "      <td>0.00</td>\n",
              "      <td>0.01</td>\n",
              "      <td>0.00</td>\n",
              "    </tr>\n",
              "    <tr>\n",
              "      <th>6</th>\n",
              "      <td>0.00</td>\n",
              "      <td>0.01</td>\n",
              "      <td>0.00</td>\n",
              "    </tr>\n",
              "    <tr>\n",
              "      <th>7</th>\n",
              "      <td>0.00</td>\n",
              "      <td>0.01</td>\n",
              "      <td>0.00</td>\n",
              "    </tr>\n",
              "    <tr>\n",
              "      <th>8</th>\n",
              "      <td>0.00</td>\n",
              "      <td>0.01</td>\n",
              "      <td>0.00</td>\n",
              "    </tr>\n",
              "    <tr>\n",
              "      <th>9</th>\n",
              "      <td>0.00</td>\n",
              "      <td>0.01</td>\n",
              "      <td>0.00</td>\n",
              "    </tr>\n",
              "  </tbody>\n",
              "</table>\n",
              "</div>"
            ],
            "text/plain": [
              "   odczyt dół a_d[m]  odczyt góra a_g[m]  grubość pozorna h[m]\n",
              "0               0.00                0.01                  0.00\n",
              "1               0.00                0.01                  0.00\n",
              "2               0.00                0.01                  0.00\n",
              "3               0.00                0.01                  0.00\n",
              "4               0.00                0.01                  0.00\n",
              "5               0.00                0.01                  0.00\n",
              "6               0.00                0.01                  0.00\n",
              "7               0.00                0.01                  0.00\n",
              "8               0.00                0.01                  0.00\n",
              "9               0.00                0.01                  0.00"
            ]
          },
          "metadata": {
            "tags": []
          },
          "execution_count": 272
        }
      ]
    },
    {
      "cell_type": "code",
      "metadata": {
        "id": "TayDbIgDsE7-"
      },
      "source": [
        "n1, un1 = calc(tab1, d, ud)"
      ],
      "execution_count": 273,
      "outputs": []
    },
    {
      "cell_type": "code",
      "metadata": {
        "colab": {
          "base_uri": "https://localhost:8080/"
        },
        "id": "SHyHCAe_tNnb",
        "outputId": "d44b5a4c-3867-434e-ffe6-cb06a84d80c3"
      },
      "source": [
        "n1 # współczynnik załamania światła"
      ],
      "execution_count": 274,
      "outputs": [
        {
          "output_type": "execute_result",
          "data": {
            "text/plain": [
              "1.5094917330067361"
            ]
          },
          "metadata": {
            "tags": []
          },
          "execution_count": 274
        }
      ]
    },
    {
      "cell_type": "code",
      "metadata": {
        "colab": {
          "base_uri": "https://localhost:8080/"
        },
        "id": "olcHKgxusc7W",
        "outputId": "eaf13261-b45f-47e0-efa6-193a899f01a5"
      },
      "source": [
        "un1 # niepewność"
      ],
      "execution_count": 275,
      "outputs": [
        {
          "output_type": "execute_result",
          "data": {
            "text/plain": [
              "0.016901143433196125"
            ]
          },
          "metadata": {
            "tags": []
          },
          "execution_count": 275
        }
      ]
    },
    {
      "cell_type": "markdown",
      "metadata": {
        "id": "YM2H3NTPuEi1"
      },
      "source": [
        "##Materiał 2: Pleksi"
      ]
    },
    {
      "cell_type": "code",
      "metadata": {
        "id": "yJ0u41G0tu19"
      },
      "source": [
        "d = 1.94e-3 #Grubość rzeczywista\n",
        "ud = 1e-5"
      ],
      "execution_count": 276,
      "outputs": []
    },
    {
      "cell_type": "code",
      "metadata": {
        "id": "yYCnRucZx1ox"
      },
      "source": [
        "tab2 = create_table(\"\"\"7,8\n",
        "7,78\n",
        "7,85\n",
        "7,81\n",
        "7,82\n",
        "7,78\n",
        "7,79\n",
        "7,83\n",
        "7,77\n",
        "7,79\"\"\", \"\"\"9,1\n",
        "9,11\n",
        "9,07\n",
        "9,1\n",
        "9,11\n",
        "9,12\n",
        "9,12\n",
        "9,09\n",
        "9,11\n",
        "9,09\"\"\")"
      ],
      "execution_count": 277,
      "outputs": []
    },
    {
      "cell_type": "code",
      "metadata": {
        "colab": {
          "base_uri": "https://localhost:8080/",
          "height": 343
        },
        "id": "otls_HBCyABu",
        "outputId": "fb796a8d-2604-4890-c124-826a45250d5c"
      },
      "source": [
        "tab2"
      ],
      "execution_count": 278,
      "outputs": [
        {
          "output_type": "execute_result",
          "data": {
            "text/html": [
              "<div>\n",
              "<style scoped>\n",
              "    .dataframe tbody tr th:only-of-type {\n",
              "        vertical-align: middle;\n",
              "    }\n",
              "\n",
              "    .dataframe tbody tr th {\n",
              "        vertical-align: top;\n",
              "    }\n",
              "\n",
              "    .dataframe thead th {\n",
              "        text-align: right;\n",
              "    }\n",
              "</style>\n",
              "<table border=\"1\" class=\"dataframe\">\n",
              "  <thead>\n",
              "    <tr style=\"text-align: right;\">\n",
              "      <th></th>\n",
              "      <th>odczyt dół a_d[m]</th>\n",
              "      <th>odczyt góra a_g[m]</th>\n",
              "      <th>grubość pozorna h[m]</th>\n",
              "    </tr>\n",
              "  </thead>\n",
              "  <tbody>\n",
              "    <tr>\n",
              "      <th>0</th>\n",
              "      <td>0.01</td>\n",
              "      <td>0.01</td>\n",
              "      <td>0.00</td>\n",
              "    </tr>\n",
              "    <tr>\n",
              "      <th>1</th>\n",
              "      <td>0.01</td>\n",
              "      <td>0.01</td>\n",
              "      <td>0.00</td>\n",
              "    </tr>\n",
              "    <tr>\n",
              "      <th>2</th>\n",
              "      <td>0.01</td>\n",
              "      <td>0.01</td>\n",
              "      <td>0.00</td>\n",
              "    </tr>\n",
              "    <tr>\n",
              "      <th>3</th>\n",
              "      <td>0.01</td>\n",
              "      <td>0.01</td>\n",
              "      <td>0.00</td>\n",
              "    </tr>\n",
              "    <tr>\n",
              "      <th>4</th>\n",
              "      <td>0.01</td>\n",
              "      <td>0.01</td>\n",
              "      <td>0.00</td>\n",
              "    </tr>\n",
              "    <tr>\n",
              "      <th>5</th>\n",
              "      <td>0.01</td>\n",
              "      <td>0.01</td>\n",
              "      <td>0.00</td>\n",
              "    </tr>\n",
              "    <tr>\n",
              "      <th>6</th>\n",
              "      <td>0.01</td>\n",
              "      <td>0.01</td>\n",
              "      <td>0.00</td>\n",
              "    </tr>\n",
              "    <tr>\n",
              "      <th>7</th>\n",
              "      <td>0.01</td>\n",
              "      <td>0.01</td>\n",
              "      <td>0.00</td>\n",
              "    </tr>\n",
              "    <tr>\n",
              "      <th>8</th>\n",
              "      <td>0.01</td>\n",
              "      <td>0.01</td>\n",
              "      <td>0.00</td>\n",
              "    </tr>\n",
              "    <tr>\n",
              "      <th>9</th>\n",
              "      <td>0.01</td>\n",
              "      <td>0.01</td>\n",
              "      <td>0.00</td>\n",
              "    </tr>\n",
              "  </tbody>\n",
              "</table>\n",
              "</div>"
            ],
            "text/plain": [
              "   odczyt dół a_d[m]  odczyt góra a_g[m]  grubość pozorna h[m]\n",
              "0               0.01                0.01                  0.00\n",
              "1               0.01                0.01                  0.00\n",
              "2               0.01                0.01                  0.00\n",
              "3               0.01                0.01                  0.00\n",
              "4               0.01                0.01                  0.00\n",
              "5               0.01                0.01                  0.00\n",
              "6               0.01                0.01                  0.00\n",
              "7               0.01                0.01                  0.00\n",
              "8               0.01                0.01                  0.00\n",
              "9               0.01                0.01                  0.00"
            ]
          },
          "metadata": {
            "tags": []
          },
          "execution_count": 278
        }
      ]
    },
    {
      "cell_type": "code",
      "metadata": {
        "id": "XgB_ixWdyAme"
      },
      "source": [
        "n2, un2 = calc(tab2, d, ud)"
      ],
      "execution_count": 279,
      "outputs": []
    },
    {
      "cell_type": "code",
      "metadata": {
        "colab": {
          "base_uri": "https://localhost:8080/"
        },
        "id": "YiZj69CWyG2B",
        "outputId": "0001599b-f7fd-4585-ca9a-82d0aa11eca9"
      },
      "source": [
        "n2 # współczynnik załamania"
      ],
      "execution_count": 280,
      "outputs": [
        {
          "output_type": "execute_result",
          "data": {
            "text/plain": [
              "1.492307692307692"
            ]
          },
          "metadata": {
            "tags": []
          },
          "execution_count": 280
        }
      ]
    },
    {
      "cell_type": "code",
      "metadata": {
        "colab": {
          "base_uri": "https://localhost:8080/"
        },
        "id": "h8HGXEvpyHUa",
        "outputId": "3d0d0e10-a1aa-4f54-a43e-b000cce1f3d5"
      },
      "source": [
        "un2"
      ],
      "execution_count": 281,
      "outputs": [
        {
          "output_type": "execute_result",
          "data": {
            "text/plain": [
              "0.04463024043891417"
            ]
          },
          "metadata": {
            "tags": []
          },
          "execution_count": 281
        }
      ]
    },
    {
      "cell_type": "markdown",
      "metadata": {
        "id": "SnKVnHOA975o"
      },
      "source": [
        "##Materiał: Szkło"
      ]
    },
    {
      "cell_type": "code",
      "metadata": {
        "id": "Y3pvQnUSyHu0"
      },
      "source": [
        "d = 2.96e-3 # m\n",
        "ud = 0.01e-3 # m"
      ],
      "execution_count": 282,
      "outputs": []
    },
    {
      "cell_type": "code",
      "metadata": {
        "colab": {
          "base_uri": "https://localhost:8080/",
          "height": 343
        },
        "id": "h88RRt2v-czL",
        "outputId": "9c1e5171-af8e-4f38-cd28-012f2cd86b96"
      },
      "source": [
        "tab3 = create_table(\"\"\"6,80\n",
        "6,83\n",
        "6,81\n",
        "6,82\n",
        "6,80\n",
        "6,82\n",
        "6,83\n",
        "6,84\n",
        "6,80\n",
        "6,83\"\"\", \"\"\"8,68\n",
        "8,69\n",
        "8,70\n",
        "8,71\n",
        "8,70\n",
        "8,78\n",
        "8,70\n",
        "8,68\n",
        "8,70\n",
        "8,70\"\"\")\n",
        "tab3"
      ],
      "execution_count": 283,
      "outputs": [
        {
          "output_type": "execute_result",
          "data": {
            "text/html": [
              "<div>\n",
              "<style scoped>\n",
              "    .dataframe tbody tr th:only-of-type {\n",
              "        vertical-align: middle;\n",
              "    }\n",
              "\n",
              "    .dataframe tbody tr th {\n",
              "        vertical-align: top;\n",
              "    }\n",
              "\n",
              "    .dataframe thead th {\n",
              "        text-align: right;\n",
              "    }\n",
              "</style>\n",
              "<table border=\"1\" class=\"dataframe\">\n",
              "  <thead>\n",
              "    <tr style=\"text-align: right;\">\n",
              "      <th></th>\n",
              "      <th>odczyt dół a_d[m]</th>\n",
              "      <th>odczyt góra a_g[m]</th>\n",
              "      <th>grubość pozorna h[m]</th>\n",
              "    </tr>\n",
              "  </thead>\n",
              "  <tbody>\n",
              "    <tr>\n",
              "      <th>0</th>\n",
              "      <td>0.01</td>\n",
              "      <td>0.01</td>\n",
              "      <td>0.00</td>\n",
              "    </tr>\n",
              "    <tr>\n",
              "      <th>1</th>\n",
              "      <td>0.01</td>\n",
              "      <td>0.01</td>\n",
              "      <td>0.00</td>\n",
              "    </tr>\n",
              "    <tr>\n",
              "      <th>2</th>\n",
              "      <td>0.01</td>\n",
              "      <td>0.01</td>\n",
              "      <td>0.00</td>\n",
              "    </tr>\n",
              "    <tr>\n",
              "      <th>3</th>\n",
              "      <td>0.01</td>\n",
              "      <td>0.01</td>\n",
              "      <td>0.00</td>\n",
              "    </tr>\n",
              "    <tr>\n",
              "      <th>4</th>\n",
              "      <td>0.01</td>\n",
              "      <td>0.01</td>\n",
              "      <td>0.00</td>\n",
              "    </tr>\n",
              "    <tr>\n",
              "      <th>5</th>\n",
              "      <td>0.01</td>\n",
              "      <td>0.01</td>\n",
              "      <td>0.00</td>\n",
              "    </tr>\n",
              "    <tr>\n",
              "      <th>6</th>\n",
              "      <td>0.01</td>\n",
              "      <td>0.01</td>\n",
              "      <td>0.00</td>\n",
              "    </tr>\n",
              "    <tr>\n",
              "      <th>7</th>\n",
              "      <td>0.01</td>\n",
              "      <td>0.01</td>\n",
              "      <td>0.00</td>\n",
              "    </tr>\n",
              "    <tr>\n",
              "      <th>8</th>\n",
              "      <td>0.01</td>\n",
              "      <td>0.01</td>\n",
              "      <td>0.00</td>\n",
              "    </tr>\n",
              "    <tr>\n",
              "      <th>9</th>\n",
              "      <td>0.01</td>\n",
              "      <td>0.01</td>\n",
              "      <td>0.00</td>\n",
              "    </tr>\n",
              "  </tbody>\n",
              "</table>\n",
              "</div>"
            ],
            "text/plain": [
              "   odczyt dół a_d[m]  odczyt góra a_g[m]  grubość pozorna h[m]\n",
              "0               0.01                0.01                  0.00\n",
              "1               0.01                0.01                  0.00\n",
              "2               0.01                0.01                  0.00\n",
              "3               0.01                0.01                  0.00\n",
              "4               0.01                0.01                  0.00\n",
              "5               0.01                0.01                  0.00\n",
              "6               0.01                0.01                  0.00\n",
              "7               0.01                0.01                  0.00\n",
              "8               0.01                0.01                  0.00\n",
              "9               0.01                0.01                  0.00"
            ]
          },
          "metadata": {
            "tags": []
          },
          "execution_count": 283
        }
      ]
    },
    {
      "cell_type": "code",
      "metadata": {
        "id": "HEbXkg5P-lwr"
      },
      "source": [
        "n3, un3 = calc(tab3, d, ud)"
      ],
      "execution_count": 284,
      "outputs": []
    },
    {
      "cell_type": "code",
      "metadata": {
        "colab": {
          "base_uri": "https://localhost:8080/"
        },
        "id": "VUScF9Uu-tGn",
        "outputId": "feec14d6-4f27-4a5c-ab0c-b3fe91726edc"
      },
      "source": [
        "n3"
      ],
      "execution_count": 285,
      "outputs": [
        {
          "output_type": "execute_result",
          "data": {
            "text/plain": [
              "1.5694591728525982"
            ]
          },
          "metadata": {
            "tags": []
          },
          "execution_count": 285
        }
      ]
    },
    {
      "cell_type": "code",
      "metadata": {
        "colab": {
          "base_uri": "https://localhost:8080/"
        },
        "id": "LfpfDqCM-t_E",
        "outputId": "0043d555-6082-4f07-b396-965b4e00f96b"
      },
      "source": [
        "un3"
      ],
      "execution_count": 286,
      "outputs": [
        {
          "output_type": "execute_result",
          "data": {
            "text/plain": [
              "0.02718593730531578"
            ]
          },
          "metadata": {
            "tags": []
          },
          "execution_count": 286
        }
      ]
    },
    {
      "cell_type": "markdown",
      "metadata": {
        "id": "omJGCdI_-1rm"
      },
      "source": [
        "##Materiał: Szkło"
      ]
    },
    {
      "cell_type": "code",
      "metadata": {
        "id": "F_BLCF0B-u57"
      },
      "source": [
        "d = 3.87e-3 # m\n",
        "ud = 0.01e-3 # m"
      ],
      "execution_count": 287,
      "outputs": []
    },
    {
      "cell_type": "code",
      "metadata": {
        "colab": {
          "base_uri": "https://localhost:8080/",
          "height": 343
        },
        "id": "gQDT9LgI-8xW",
        "outputId": "cdcb0d9e-92a5-4ed5-e08b-3b503f3180bd"
      },
      "source": [
        "tab4 = create_table(\"\"\"6,96\n",
        "6,89\n",
        "6,88\n",
        "6,84\n",
        "6,91\n",
        "6,93\n",
        "6,90\n",
        "6,84\n",
        "6,85\n",
        "6,85\"\"\", \"\"\"9,50\n",
        "9,40\n",
        "9,41\n",
        "9,39\n",
        "9,38\n",
        "9,37\n",
        "9,41\n",
        "9,35\n",
        "9,40\n",
        "9,39\"\"\")\n",
        "tab4"
      ],
      "execution_count": 288,
      "outputs": [
        {
          "output_type": "execute_result",
          "data": {
            "text/html": [
              "<div>\n",
              "<style scoped>\n",
              "    .dataframe tbody tr th:only-of-type {\n",
              "        vertical-align: middle;\n",
              "    }\n",
              "\n",
              "    .dataframe tbody tr th {\n",
              "        vertical-align: top;\n",
              "    }\n",
              "\n",
              "    .dataframe thead th {\n",
              "        text-align: right;\n",
              "    }\n",
              "</style>\n",
              "<table border=\"1\" class=\"dataframe\">\n",
              "  <thead>\n",
              "    <tr style=\"text-align: right;\">\n",
              "      <th></th>\n",
              "      <th>odczyt dół a_d[m]</th>\n",
              "      <th>odczyt góra a_g[m]</th>\n",
              "      <th>grubość pozorna h[m]</th>\n",
              "    </tr>\n",
              "  </thead>\n",
              "  <tbody>\n",
              "    <tr>\n",
              "      <th>0</th>\n",
              "      <td>0.01</td>\n",
              "      <td>0.01</td>\n",
              "      <td>0.00</td>\n",
              "    </tr>\n",
              "    <tr>\n",
              "      <th>1</th>\n",
              "      <td>0.01</td>\n",
              "      <td>0.01</td>\n",
              "      <td>0.00</td>\n",
              "    </tr>\n",
              "    <tr>\n",
              "      <th>2</th>\n",
              "      <td>0.01</td>\n",
              "      <td>0.01</td>\n",
              "      <td>0.00</td>\n",
              "    </tr>\n",
              "    <tr>\n",
              "      <th>3</th>\n",
              "      <td>0.01</td>\n",
              "      <td>0.01</td>\n",
              "      <td>0.00</td>\n",
              "    </tr>\n",
              "    <tr>\n",
              "      <th>4</th>\n",
              "      <td>0.01</td>\n",
              "      <td>0.01</td>\n",
              "      <td>0.00</td>\n",
              "    </tr>\n",
              "    <tr>\n",
              "      <th>5</th>\n",
              "      <td>0.01</td>\n",
              "      <td>0.01</td>\n",
              "      <td>0.00</td>\n",
              "    </tr>\n",
              "    <tr>\n",
              "      <th>6</th>\n",
              "      <td>0.01</td>\n",
              "      <td>0.01</td>\n",
              "      <td>0.00</td>\n",
              "    </tr>\n",
              "    <tr>\n",
              "      <th>7</th>\n",
              "      <td>0.01</td>\n",
              "      <td>0.01</td>\n",
              "      <td>0.00</td>\n",
              "    </tr>\n",
              "    <tr>\n",
              "      <th>8</th>\n",
              "      <td>0.01</td>\n",
              "      <td>0.01</td>\n",
              "      <td>0.00</td>\n",
              "    </tr>\n",
              "    <tr>\n",
              "      <th>9</th>\n",
              "      <td>0.01</td>\n",
              "      <td>0.01</td>\n",
              "      <td>0.00</td>\n",
              "    </tr>\n",
              "  </tbody>\n",
              "</table>\n",
              "</div>"
            ],
            "text/plain": [
              "   odczyt dół a_d[m]  odczyt góra a_g[m]  grubość pozorna h[m]\n",
              "0               0.01                0.01                  0.00\n",
              "1               0.01                0.01                  0.00\n",
              "2               0.01                0.01                  0.00\n",
              "3               0.01                0.01                  0.00\n",
              "4               0.01                0.01                  0.00\n",
              "5               0.01                0.01                  0.00\n",
              "6               0.01                0.01                  0.00\n",
              "7               0.01                0.01                  0.00\n",
              "8               0.01                0.01                  0.00\n",
              "9               0.01                0.01                  0.00"
            ]
          },
          "metadata": {
            "tags": []
          },
          "execution_count": 288
        }
      ]
    },
    {
      "cell_type": "code",
      "metadata": {
        "id": "fIfq1fO__A2j"
      },
      "source": [
        "n4, un4 = calc(tab4, d, ud)"
      ],
      "execution_count": 289,
      "outputs": []
    },
    {
      "cell_type": "code",
      "metadata": {
        "colab": {
          "base_uri": "https://localhost:8080/"
        },
        "id": "8ay69Bs__L6-",
        "outputId": "a65ba800-3f6f-4265-b340-ae17ff283897"
      },
      "source": [
        "n4"
      ],
      "execution_count": 290,
      "outputs": [
        {
          "output_type": "execute_result",
          "data": {
            "text/plain": [
              "1.5387673956262422"
            ]
          },
          "metadata": {
            "tags": []
          },
          "execution_count": 290
        }
      ]
    },
    {
      "cell_type": "code",
      "metadata": {
        "colab": {
          "base_uri": "https://localhost:8080/"
        },
        "id": "cyfAAeu5_NBQ",
        "outputId": "322c1e17-fcdd-4de0-bc63-92f66d26164e"
      },
      "source": [
        "un4"
      ],
      "execution_count": 291,
      "outputs": [
        {
          "output_type": "execute_result",
          "data": {
            "text/plain": [
              "0.022369090651300397"
            ]
          },
          "metadata": {
            "tags": []
          },
          "execution_count": 291
        }
      ]
    },
    {
      "cell_type": "markdown",
      "metadata": {
        "id": "tWAcivvx_XoD"
      },
      "source": [
        "##Dyspersja"
      ]
    },
    {
      "cell_type": "markdown",
      "metadata": {
        "id": "syta9R-0AAWk"
      },
      "source": [
        "###Czerwony"
      ]
    },
    {
      "cell_type": "code",
      "metadata": {
        "id": "FN5aVb6a_NgH"
      },
      "source": [
        "d = 4.93e-3 # m\n",
        "ud = 0.01e-3 # m"
      ],
      "execution_count": 292,
      "outputs": []
    },
    {
      "cell_type": "code",
      "metadata": {
        "colab": {
          "base_uri": "https://localhost:8080/",
          "height": 343
        },
        "id": "P_WSj1MT_hUF",
        "outputId": "4a4b8617-9dab-4dff-8494-db1698b62c9f"
      },
      "source": [
        "tab5red = create_table(\"\"\"5,72\n",
        "5,69\n",
        "5,72\n",
        "5,72\n",
        "5,73\n",
        "5,7\n",
        "5,71\n",
        "5,72\n",
        "5,70\n",
        "5,71\"\"\", \"\"\"9,02\n",
        "9,00\n",
        "9,02\n",
        "9,05\n",
        "9,06\n",
        "9,06\n",
        "9,02\n",
        "9,01\n",
        "9,03\n",
        "9,02\"\"\")\n",
        "tab5red"
      ],
      "execution_count": 293,
      "outputs": [
        {
          "output_type": "execute_result",
          "data": {
            "text/html": [
              "<div>\n",
              "<style scoped>\n",
              "    .dataframe tbody tr th:only-of-type {\n",
              "        vertical-align: middle;\n",
              "    }\n",
              "\n",
              "    .dataframe tbody tr th {\n",
              "        vertical-align: top;\n",
              "    }\n",
              "\n",
              "    .dataframe thead th {\n",
              "        text-align: right;\n",
              "    }\n",
              "</style>\n",
              "<table border=\"1\" class=\"dataframe\">\n",
              "  <thead>\n",
              "    <tr style=\"text-align: right;\">\n",
              "      <th></th>\n",
              "      <th>odczyt dół a_d[m]</th>\n",
              "      <th>odczyt góra a_g[m]</th>\n",
              "      <th>grubość pozorna h[m]</th>\n",
              "    </tr>\n",
              "  </thead>\n",
              "  <tbody>\n",
              "    <tr>\n",
              "      <th>0</th>\n",
              "      <td>0.01</td>\n",
              "      <td>0.01</td>\n",
              "      <td>0.00</td>\n",
              "    </tr>\n",
              "    <tr>\n",
              "      <th>1</th>\n",
              "      <td>0.01</td>\n",
              "      <td>0.01</td>\n",
              "      <td>0.00</td>\n",
              "    </tr>\n",
              "    <tr>\n",
              "      <th>2</th>\n",
              "      <td>0.01</td>\n",
              "      <td>0.01</td>\n",
              "      <td>0.00</td>\n",
              "    </tr>\n",
              "    <tr>\n",
              "      <th>3</th>\n",
              "      <td>0.01</td>\n",
              "      <td>0.01</td>\n",
              "      <td>0.00</td>\n",
              "    </tr>\n",
              "    <tr>\n",
              "      <th>4</th>\n",
              "      <td>0.01</td>\n",
              "      <td>0.01</td>\n",
              "      <td>0.00</td>\n",
              "    </tr>\n",
              "    <tr>\n",
              "      <th>5</th>\n",
              "      <td>0.01</td>\n",
              "      <td>0.01</td>\n",
              "      <td>0.00</td>\n",
              "    </tr>\n",
              "    <tr>\n",
              "      <th>6</th>\n",
              "      <td>0.01</td>\n",
              "      <td>0.01</td>\n",
              "      <td>0.00</td>\n",
              "    </tr>\n",
              "    <tr>\n",
              "      <th>7</th>\n",
              "      <td>0.01</td>\n",
              "      <td>0.01</td>\n",
              "      <td>0.00</td>\n",
              "    </tr>\n",
              "    <tr>\n",
              "      <th>8</th>\n",
              "      <td>0.01</td>\n",
              "      <td>0.01</td>\n",
              "      <td>0.00</td>\n",
              "    </tr>\n",
              "    <tr>\n",
              "      <th>9</th>\n",
              "      <td>0.01</td>\n",
              "      <td>0.01</td>\n",
              "      <td>0.00</td>\n",
              "    </tr>\n",
              "  </tbody>\n",
              "</table>\n",
              "</div>"
            ],
            "text/plain": [
              "   odczyt dół a_d[m]  odczyt góra a_g[m]  grubość pozorna h[m]\n",
              "0               0.01                0.01                  0.00\n",
              "1               0.01                0.01                  0.00\n",
              "2               0.01                0.01                  0.00\n",
              "3               0.01                0.01                  0.00\n",
              "4               0.01                0.01                  0.00\n",
              "5               0.01                0.01                  0.00\n",
              "6               0.01                0.01                  0.00\n",
              "7               0.01                0.01                  0.00\n",
              "8               0.01                0.01                  0.00\n",
              "9               0.01                0.01                  0.00"
            ]
          },
          "metadata": {
            "tags": []
          },
          "execution_count": 293
        }
      ]
    },
    {
      "cell_type": "code",
      "metadata": {
        "id": "B6KDBzhe_xm8"
      },
      "source": [
        "n5r, un5r = calc(tab5red, d, ud)"
      ],
      "execution_count": 294,
      "outputs": []
    },
    {
      "cell_type": "code",
      "metadata": {
        "colab": {
          "base_uri": "https://localhost:8080/"
        },
        "id": "A-ZVIVcf_3cn",
        "outputId": "5fff1d0e-25ec-4776-8327-edc40e7ea2c5"
      },
      "source": [
        "n5r"
      ],
      "execution_count": 295,
      "outputs": [
        {
          "output_type": "execute_result",
          "data": {
            "text/plain": [
              "1.4862827856496834"
            ]
          },
          "metadata": {
            "tags": []
          },
          "execution_count": 295
        }
      ]
    },
    {
      "cell_type": "code",
      "metadata": {
        "colab": {
          "base_uri": "https://localhost:8080/"
        },
        "id": "6n92fqhJ_8Pb",
        "outputId": "e4802308-d933-4fa8-e076-afcebb546c26"
      },
      "source": [
        "un5r"
      ],
      "execution_count": 296,
      "outputs": [
        {
          "output_type": "execute_result",
          "data": {
            "text/plain": [
              "0.009699693611810955"
            ]
          },
          "metadata": {
            "tags": []
          },
          "execution_count": 296
        }
      ]
    },
    {
      "cell_type": "markdown",
      "metadata": {
        "id": "E9nPO58IACpl"
      },
      "source": [
        "###Zielony"
      ]
    },
    {
      "cell_type": "code",
      "metadata": {
        "colab": {
          "base_uri": "https://localhost:8080/",
          "height": 343
        },
        "id": "0s7ATOua_8tG",
        "outputId": "b54ed227-b407-4205-d9b2-5a82dfcde355"
      },
      "source": [
        "tab5g = create_table(\"\"\"5,71\n",
        "5,79\n",
        "5,77\n",
        "5,71\n",
        "5,76\n",
        "5,81\n",
        "5,77\n",
        "5,77\n",
        "5,82\n",
        "5,73\"\"\", \"\"\"9,08\n",
        "9,04\n",
        "9,06\n",
        "9,07\n",
        "9,03\n",
        "9,04\n",
        "9,04\n",
        "9,12\n",
        "9,11\n",
        "9,06\"\"\")\n",
        "tab5g"
      ],
      "execution_count": 297,
      "outputs": [
        {
          "output_type": "execute_result",
          "data": {
            "text/html": [
              "<div>\n",
              "<style scoped>\n",
              "    .dataframe tbody tr th:only-of-type {\n",
              "        vertical-align: middle;\n",
              "    }\n",
              "\n",
              "    .dataframe tbody tr th {\n",
              "        vertical-align: top;\n",
              "    }\n",
              "\n",
              "    .dataframe thead th {\n",
              "        text-align: right;\n",
              "    }\n",
              "</style>\n",
              "<table border=\"1\" class=\"dataframe\">\n",
              "  <thead>\n",
              "    <tr style=\"text-align: right;\">\n",
              "      <th></th>\n",
              "      <th>odczyt dół a_d[m]</th>\n",
              "      <th>odczyt góra a_g[m]</th>\n",
              "      <th>grubość pozorna h[m]</th>\n",
              "    </tr>\n",
              "  </thead>\n",
              "  <tbody>\n",
              "    <tr>\n",
              "      <th>0</th>\n",
              "      <td>0.01</td>\n",
              "      <td>0.01</td>\n",
              "      <td>0.00</td>\n",
              "    </tr>\n",
              "    <tr>\n",
              "      <th>1</th>\n",
              "      <td>0.01</td>\n",
              "      <td>0.01</td>\n",
              "      <td>0.00</td>\n",
              "    </tr>\n",
              "    <tr>\n",
              "      <th>2</th>\n",
              "      <td>0.01</td>\n",
              "      <td>0.01</td>\n",
              "      <td>0.00</td>\n",
              "    </tr>\n",
              "    <tr>\n",
              "      <th>3</th>\n",
              "      <td>0.01</td>\n",
              "      <td>0.01</td>\n",
              "      <td>0.00</td>\n",
              "    </tr>\n",
              "    <tr>\n",
              "      <th>4</th>\n",
              "      <td>0.01</td>\n",
              "      <td>0.01</td>\n",
              "      <td>0.00</td>\n",
              "    </tr>\n",
              "    <tr>\n",
              "      <th>5</th>\n",
              "      <td>0.01</td>\n",
              "      <td>0.01</td>\n",
              "      <td>0.00</td>\n",
              "    </tr>\n",
              "    <tr>\n",
              "      <th>6</th>\n",
              "      <td>0.01</td>\n",
              "      <td>0.01</td>\n",
              "      <td>0.00</td>\n",
              "    </tr>\n",
              "    <tr>\n",
              "      <th>7</th>\n",
              "      <td>0.01</td>\n",
              "      <td>0.01</td>\n",
              "      <td>0.00</td>\n",
              "    </tr>\n",
              "    <tr>\n",
              "      <th>8</th>\n",
              "      <td>0.01</td>\n",
              "      <td>0.01</td>\n",
              "      <td>0.00</td>\n",
              "    </tr>\n",
              "    <tr>\n",
              "      <th>9</th>\n",
              "      <td>0.01</td>\n",
              "      <td>0.01</td>\n",
              "      <td>0.00</td>\n",
              "    </tr>\n",
              "  </tbody>\n",
              "</table>\n",
              "</div>"
            ],
            "text/plain": [
              "   odczyt dół a_d[m]  odczyt góra a_g[m]  grubość pozorna h[m]\n",
              "0               0.01                0.01                  0.00\n",
              "1               0.01                0.01                  0.00\n",
              "2               0.01                0.01                  0.00\n",
              "3               0.01                0.01                  0.00\n",
              "4               0.01                0.01                  0.00\n",
              "5               0.01                0.01                  0.00\n",
              "6               0.01                0.01                  0.00\n",
              "7               0.01                0.01                  0.00\n",
              "8               0.01                0.01                  0.00\n",
              "9               0.01                0.01                  0.00"
            ]
          },
          "metadata": {
            "tags": []
          },
          "execution_count": 297
        }
      ]
    },
    {
      "cell_type": "code",
      "metadata": {
        "id": "qoyP3NgmAOab"
      },
      "source": [
        "n5g, un5g = calc(tab5g, d, ud)"
      ],
      "execution_count": 298,
      "outputs": []
    },
    {
      "cell_type": "code",
      "metadata": {
        "colab": {
          "base_uri": "https://localhost:8080/"
        },
        "id": "Rvd37KEMASsY",
        "outputId": "e2465720-2bcc-4ae8-fa9b-88a1ee9a09bf"
      },
      "source": [
        "n5g"
      ],
      "execution_count": 299,
      "outputs": [
        {
          "output_type": "execute_result",
          "data": {
            "text/plain": [
              "1.4934868221750988"
            ]
          },
          "metadata": {
            "tags": []
          },
          "execution_count": 299
        }
      ]
    },
    {
      "cell_type": "code",
      "metadata": {
        "colab": {
          "base_uri": "https://localhost:8080/"
        },
        "id": "sDUtKUsEATqd",
        "outputId": "0be97cf7-b4bd-40fe-f944-36fabcd380fe"
      },
      "source": [
        "un5g"
      ],
      "execution_count": 300,
      "outputs": [
        {
          "output_type": "execute_result",
          "data": {
            "text/plain": [
              "0.022212599870205442"
            ]
          },
          "metadata": {
            "tags": []
          },
          "execution_count": 300
        }
      ]
    },
    {
      "cell_type": "markdown",
      "metadata": {
        "id": "MSo3lWn7Aekf"
      },
      "source": [
        "###Niebieski"
      ]
    },
    {
      "cell_type": "code",
      "metadata": {
        "colab": {
          "base_uri": "https://localhost:8080/",
          "height": 284
        },
        "id": "DGzuS5JXAUJe",
        "outputId": "d3be404b-5ea4-49ab-f7a2-bb5a212cf88c"
      },
      "source": [
        "tab5b = create_table(\"\"\"5,9\n",
        "5,96\n",
        "5,9\n",
        "6,04\n",
        "5,95\n",
        "5,93\n",
        "5,9\n",
        "5,97\"\"\", \"\"\"9,27\n",
        "9,16\n",
        "9,2\n",
        "9,14\n",
        "9,24\n",
        "9,23\n",
        "9,26\n",
        "9,26\"\"\")\n",
        "tab5b"
      ],
      "execution_count": 301,
      "outputs": [
        {
          "output_type": "execute_result",
          "data": {
            "text/html": [
              "<div>\n",
              "<style scoped>\n",
              "    .dataframe tbody tr th:only-of-type {\n",
              "        vertical-align: middle;\n",
              "    }\n",
              "\n",
              "    .dataframe tbody tr th {\n",
              "        vertical-align: top;\n",
              "    }\n",
              "\n",
              "    .dataframe thead th {\n",
              "        text-align: right;\n",
              "    }\n",
              "</style>\n",
              "<table border=\"1\" class=\"dataframe\">\n",
              "  <thead>\n",
              "    <tr style=\"text-align: right;\">\n",
              "      <th></th>\n",
              "      <th>odczyt dół a_d[m]</th>\n",
              "      <th>odczyt góra a_g[m]</th>\n",
              "      <th>grubość pozorna h[m]</th>\n",
              "    </tr>\n",
              "  </thead>\n",
              "  <tbody>\n",
              "    <tr>\n",
              "      <th>0</th>\n",
              "      <td>0.01</td>\n",
              "      <td>0.01</td>\n",
              "      <td>0.00</td>\n",
              "    </tr>\n",
              "    <tr>\n",
              "      <th>1</th>\n",
              "      <td>0.01</td>\n",
              "      <td>0.01</td>\n",
              "      <td>0.00</td>\n",
              "    </tr>\n",
              "    <tr>\n",
              "      <th>2</th>\n",
              "      <td>0.01</td>\n",
              "      <td>0.01</td>\n",
              "      <td>0.00</td>\n",
              "    </tr>\n",
              "    <tr>\n",
              "      <th>3</th>\n",
              "      <td>0.01</td>\n",
              "      <td>0.01</td>\n",
              "      <td>0.00</td>\n",
              "    </tr>\n",
              "    <tr>\n",
              "      <th>4</th>\n",
              "      <td>0.01</td>\n",
              "      <td>0.01</td>\n",
              "      <td>0.00</td>\n",
              "    </tr>\n",
              "    <tr>\n",
              "      <th>5</th>\n",
              "      <td>0.01</td>\n",
              "      <td>0.01</td>\n",
              "      <td>0.00</td>\n",
              "    </tr>\n",
              "    <tr>\n",
              "      <th>6</th>\n",
              "      <td>0.01</td>\n",
              "      <td>0.01</td>\n",
              "      <td>0.00</td>\n",
              "    </tr>\n",
              "    <tr>\n",
              "      <th>7</th>\n",
              "      <td>0.01</td>\n",
              "      <td>0.01</td>\n",
              "      <td>0.00</td>\n",
              "    </tr>\n",
              "  </tbody>\n",
              "</table>\n",
              "</div>"
            ],
            "text/plain": [
              "   odczyt dół a_d[m]  odczyt góra a_g[m]  grubość pozorna h[m]\n",
              "0               0.01                0.01                  0.00\n",
              "1               0.01                0.01                  0.00\n",
              "2               0.01                0.01                  0.00\n",
              "3               0.01                0.01                  0.00\n",
              "4               0.01                0.01                  0.00\n",
              "5               0.01                0.01                  0.00\n",
              "6               0.01                0.01                  0.00\n",
              "7               0.01                0.01                  0.00"
            ]
          },
          "metadata": {
            "tags": []
          },
          "execution_count": 301
        }
      ]
    },
    {
      "cell_type": "code",
      "metadata": {
        "id": "0X06s-peApuT"
      },
      "source": [
        "n5b, un5b = calc(tab5b, d, ud)"
      ],
      "execution_count": 302,
      "outputs": []
    },
    {
      "cell_type": "code",
      "metadata": {
        "colab": {
          "base_uri": "https://localhost:8080/"
        },
        "id": "J76QN_CRAuST",
        "outputId": "8abd02fa-06ab-47d9-fc92-d7ffbcc7761d"
      },
      "source": [
        "n5b"
      ],
      "execution_count": 303,
      "outputs": [
        {
          "output_type": "execute_result",
          "data": {
            "text/plain": [
              "1.5047691720717287"
            ]
          },
          "metadata": {
            "tags": []
          },
          "execution_count": 303
        }
      ]
    },
    {
      "cell_type": "code",
      "metadata": {
        "colab": {
          "base_uri": "https://localhost:8080/"
        },
        "id": "KidiTz3wAvPE",
        "outputId": "3f217445-1018-4138-99e8-1c0be53b4994"
      },
      "source": [
        "un5b"
      ],
      "execution_count": 304,
      "outputs": [
        {
          "output_type": "execute_result",
          "data": {
            "text/plain": [
              "0.04052553000199423"
            ]
          },
          "metadata": {
            "tags": []
          },
          "execution_count": 304
        }
      ]
    },
    {
      "cell_type": "markdown",
      "metadata": {
        "id": "yBJblPTDA6GP"
      },
      "source": [
        "###Żółty"
      ]
    },
    {
      "cell_type": "code",
      "metadata": {
        "colab": {
          "base_uri": "https://localhost:8080/",
          "height": 195
        },
        "id": "L1mALVcbAvwh",
        "outputId": "82901e67-11f7-4117-bf1b-da26ea6b8591"
      },
      "source": [
        "tab5y = create_table(\"\"\"5,9\n",
        "6\n",
        "6,03\n",
        "6,02\n",
        "5,99\"\"\", \"\"\"9,2\n",
        "9,28\n",
        "9,26\n",
        "9,25\n",
        "9,23\"\"\")\n",
        "tab5y"
      ],
      "execution_count": 305,
      "outputs": [
        {
          "output_type": "execute_result",
          "data": {
            "text/html": [
              "<div>\n",
              "<style scoped>\n",
              "    .dataframe tbody tr th:only-of-type {\n",
              "        vertical-align: middle;\n",
              "    }\n",
              "\n",
              "    .dataframe tbody tr th {\n",
              "        vertical-align: top;\n",
              "    }\n",
              "\n",
              "    .dataframe thead th {\n",
              "        text-align: right;\n",
              "    }\n",
              "</style>\n",
              "<table border=\"1\" class=\"dataframe\">\n",
              "  <thead>\n",
              "    <tr style=\"text-align: right;\">\n",
              "      <th></th>\n",
              "      <th>odczyt dół a_d[m]</th>\n",
              "      <th>odczyt góra a_g[m]</th>\n",
              "      <th>grubość pozorna h[m]</th>\n",
              "    </tr>\n",
              "  </thead>\n",
              "  <tbody>\n",
              "    <tr>\n",
              "      <th>0</th>\n",
              "      <td>0.01</td>\n",
              "      <td>0.01</td>\n",
              "      <td>0.00</td>\n",
              "    </tr>\n",
              "    <tr>\n",
              "      <th>1</th>\n",
              "      <td>0.01</td>\n",
              "      <td>0.01</td>\n",
              "      <td>0.00</td>\n",
              "    </tr>\n",
              "    <tr>\n",
              "      <th>2</th>\n",
              "      <td>0.01</td>\n",
              "      <td>0.01</td>\n",
              "      <td>0.00</td>\n",
              "    </tr>\n",
              "    <tr>\n",
              "      <th>3</th>\n",
              "      <td>0.01</td>\n",
              "      <td>0.01</td>\n",
              "      <td>0.00</td>\n",
              "    </tr>\n",
              "    <tr>\n",
              "      <th>4</th>\n",
              "      <td>0.01</td>\n",
              "      <td>0.01</td>\n",
              "      <td>0.00</td>\n",
              "    </tr>\n",
              "  </tbody>\n",
              "</table>\n",
              "</div>"
            ],
            "text/plain": [
              "   odczyt dół a_d[m]  odczyt góra a_g[m]  grubość pozorna h[m]\n",
              "0               0.01                0.01                  0.00\n",
              "1               0.01                0.01                  0.00\n",
              "2               0.01                0.01                  0.00\n",
              "3               0.01                0.01                  0.00\n",
              "4               0.01                0.01                  0.00"
            ]
          },
          "metadata": {
            "tags": []
          },
          "execution_count": 305
        }
      ]
    },
    {
      "cell_type": "code",
      "metadata": {
        "id": "O5K2yveLBJbL"
      },
      "source": [
        "n5y, un5y = calc(tab5y, d, ud)"
      ],
      "execution_count": 306,
      "outputs": []
    },
    {
      "cell_type": "code",
      "metadata": {
        "colab": {
          "base_uri": "https://localhost:8080/"
        },
        "id": "9q47gTlFBMy0",
        "outputId": "7a927162-a9f5-476b-daf4-ef37236aa555"
      },
      "source": [
        "n5y"
      ],
      "execution_count": 307,
      "outputs": [
        {
          "output_type": "execute_result",
          "data": {
            "text/plain": [
              "1.5141277641277646"
            ]
          },
          "metadata": {
            "tags": []
          },
          "execution_count": 307
        }
      ]
    },
    {
      "cell_type": "code",
      "metadata": {
        "colab": {
          "base_uri": "https://localhost:8080/"
        },
        "id": "fTVqP2JOBNdp",
        "outputId": "112ac4f7-675c-4cea-aa45-7ffa969930a3"
      },
      "source": [
        "un5y"
      ],
      "execution_count": 308,
      "outputs": [
        {
          "output_type": "execute_result",
          "data": {
            "text/plain": [
              "0.015237131159529533"
            ]
          },
          "metadata": {
            "tags": []
          },
          "execution_count": 308
        }
      ]
    },
    {
      "cell_type": "code",
      "metadata": {
        "id": "VgQkEv7gBOBb"
      },
      "source": [
        "disp = pd.DataFrame()"
      ],
      "execution_count": 309,
      "outputs": []
    },
    {
      "cell_type": "code",
      "metadata": {
        "id": "klsPGH7HBWDv"
      },
      "source": [
        "disp['Brak filtra'] = [n1, un1]"
      ],
      "execution_count": 310,
      "outputs": []
    },
    {
      "cell_type": "code",
      "metadata": {
        "id": "DD_dp06wBdbE"
      },
      "source": [
        "disp.index = ['współczynnik załamania n', 'niepewność un']"
      ],
      "execution_count": 311,
      "outputs": []
    },
    {
      "cell_type": "code",
      "metadata": {
        "id": "yhAqtlFHBePQ"
      },
      "source": [
        "disp['Czerwony filtr'] = [n5r, un5r]"
      ],
      "execution_count": 312,
      "outputs": []
    },
    {
      "cell_type": "code",
      "metadata": {
        "id": "FWTu7BL7Bpqd"
      },
      "source": [
        "disp['Zielony filtr'] = [n5g, un5g]"
      ],
      "execution_count": 313,
      "outputs": []
    },
    {
      "cell_type": "code",
      "metadata": {
        "id": "y9ep0GexB_0o"
      },
      "source": [
        "disp['Niebieski filtr'] = [n5b, un5b]"
      ],
      "execution_count": 314,
      "outputs": []
    },
    {
      "cell_type": "code",
      "metadata": {
        "id": "EASbQLI4CE9Y"
      },
      "source": [
        "disp['Żołty filtr'] = [n5y, un5y]"
      ],
      "execution_count": 315,
      "outputs": []
    },
    {
      "cell_type": "code",
      "metadata": {
        "colab": {
          "base_uri": "https://localhost:8080/",
          "height": 106
        },
        "id": "a6LvmevxCKPo",
        "outputId": "01200503-bb93-4f29-9171-bd15e9db3bf0"
      },
      "source": [
        "disp"
      ],
      "execution_count": 316,
      "outputs": [
        {
          "output_type": "execute_result",
          "data": {
            "text/html": [
              "<div>\n",
              "<style scoped>\n",
              "    .dataframe tbody tr th:only-of-type {\n",
              "        vertical-align: middle;\n",
              "    }\n",
              "\n",
              "    .dataframe tbody tr th {\n",
              "        vertical-align: top;\n",
              "    }\n",
              "\n",
              "    .dataframe thead th {\n",
              "        text-align: right;\n",
              "    }\n",
              "</style>\n",
              "<table border=\"1\" class=\"dataframe\">\n",
              "  <thead>\n",
              "    <tr style=\"text-align: right;\">\n",
              "      <th></th>\n",
              "      <th>Brak filtra</th>\n",
              "      <th>Czerwony filtr</th>\n",
              "      <th>Zielony filtr</th>\n",
              "      <th>Niebieski filtr</th>\n",
              "      <th>Żołty filtr</th>\n",
              "    </tr>\n",
              "  </thead>\n",
              "  <tbody>\n",
              "    <tr>\n",
              "      <th>współczynnik załamania n</th>\n",
              "      <td>1.51</td>\n",
              "      <td>1.49</td>\n",
              "      <td>1.49</td>\n",
              "      <td>1.50</td>\n",
              "      <td>1.51</td>\n",
              "    </tr>\n",
              "    <tr>\n",
              "      <th>niepewność un</th>\n",
              "      <td>0.02</td>\n",
              "      <td>0.01</td>\n",
              "      <td>0.02</td>\n",
              "      <td>0.04</td>\n",
              "      <td>0.02</td>\n",
              "    </tr>\n",
              "  </tbody>\n",
              "</table>\n",
              "</div>"
            ],
            "text/plain": [
              "                          Brak filtra  ...  Żołty filtr\n",
              "współczynnik załamania n         1.51  ...         1.51\n",
              "niepewność un                    0.02  ...         0.02\n",
              "\n",
              "[2 rows x 5 columns]"
            ]
          },
          "metadata": {
            "tags": []
          },
          "execution_count": 316
        }
      ]
    },
    {
      "cell_type": "code",
      "metadata": {
        "id": "Dy4YlPJzCKud"
      },
      "source": [
        ""
      ],
      "execution_count": 316,
      "outputs": []
    },
    {
      "cell_type": "markdown",
      "metadata": {
        "id": "CBDcguhYCg-A"
      },
      "source": [
        "#Podsumowanko"
      ]
    },
    {
      "cell_type": "code",
      "metadata": {
        "id": "hi4fu54fCi9_"
      },
      "source": [
        "tab = pd.DataFrame()"
      ],
      "execution_count": 317,
      "outputs": []
    },
    {
      "cell_type": "code",
      "metadata": {
        "id": "9-DDzd_KC3y3"
      },
      "source": [
        "tab['Współczynnik załamania n'] = [n1, n2, n3, n4]"
      ],
      "execution_count": 318,
      "outputs": []
    },
    {
      "cell_type": "code",
      "metadata": {
        "id": "IBRopAq6CmzE"
      },
      "source": [
        "tab.index = ['Pleksi grubsze', 'Pleksi cieńkie', \"Szkło cieńkie\", \"Szkło grubsze\"]"
      ],
      "execution_count": 319,
      "outputs": []
    },
    {
      "cell_type": "code",
      "metadata": {
        "id": "1iqGmmfDDE6Q"
      },
      "source": [
        "tab['Niepewność'] = [un1, un2, un3, un4]"
      ],
      "execution_count": 320,
      "outputs": []
    },
    {
      "cell_type": "code",
      "metadata": {
        "colab": {
          "base_uri": "https://localhost:8080/",
          "height": 166
        },
        "id": "jsg3dwI5DMeN",
        "outputId": "c52b9598-4aa3-4ca9-8982-9344d4eb032d"
      },
      "source": [
        "pd.options.display.float_format = '{:,.2f}'.format\r\n",
        "tab"
      ],
      "execution_count": 321,
      "outputs": [
        {
          "output_type": "execute_result",
          "data": {
            "text/html": [
              "<div>\n",
              "<style scoped>\n",
              "    .dataframe tbody tr th:only-of-type {\n",
              "        vertical-align: middle;\n",
              "    }\n",
              "\n",
              "    .dataframe tbody tr th {\n",
              "        vertical-align: top;\n",
              "    }\n",
              "\n",
              "    .dataframe thead th {\n",
              "        text-align: right;\n",
              "    }\n",
              "</style>\n",
              "<table border=\"1\" class=\"dataframe\">\n",
              "  <thead>\n",
              "    <tr style=\"text-align: right;\">\n",
              "      <th></th>\n",
              "      <th>Współczynnik załamania n</th>\n",
              "      <th>Niepewność</th>\n",
              "    </tr>\n",
              "  </thead>\n",
              "  <tbody>\n",
              "    <tr>\n",
              "      <th>Pleksi grubsze</th>\n",
              "      <td>1.51</td>\n",
              "      <td>0.02</td>\n",
              "    </tr>\n",
              "    <tr>\n",
              "      <th>Pleksi cieńkie</th>\n",
              "      <td>1.49</td>\n",
              "      <td>0.04</td>\n",
              "    </tr>\n",
              "    <tr>\n",
              "      <th>Szkło cieńkie</th>\n",
              "      <td>1.57</td>\n",
              "      <td>0.03</td>\n",
              "    </tr>\n",
              "    <tr>\n",
              "      <th>Szkło grubsze</th>\n",
              "      <td>1.54</td>\n",
              "      <td>0.02</td>\n",
              "    </tr>\n",
              "  </tbody>\n",
              "</table>\n",
              "</div>"
            ],
            "text/plain": [
              "                Współczynnik załamania n  Niepewność\n",
              "Pleksi grubsze                      1.51        0.02\n",
              "Pleksi cieńkie                      1.49        0.04\n",
              "Szkło cieńkie                       1.57        0.03\n",
              "Szkło grubsze                       1.54        0.02"
            ]
          },
          "metadata": {
            "tags": []
          },
          "execution_count": 321
        }
      ]
    },
    {
      "cell_type": "code",
      "metadata": {
        "id": "OqGf5F6zDPAN",
        "colab": {
          "base_uri": "https://localhost:8080/",
          "height": 195
        },
        "outputId": "b00105cb-e380-4b2f-b90a-74ede747d838"
      },
      "source": [
        "disp.transpose()"
      ],
      "execution_count": 322,
      "outputs": [
        {
          "output_type": "execute_result",
          "data": {
            "text/html": [
              "<div>\n",
              "<style scoped>\n",
              "    .dataframe tbody tr th:only-of-type {\n",
              "        vertical-align: middle;\n",
              "    }\n",
              "\n",
              "    .dataframe tbody tr th {\n",
              "        vertical-align: top;\n",
              "    }\n",
              "\n",
              "    .dataframe thead th {\n",
              "        text-align: right;\n",
              "    }\n",
              "</style>\n",
              "<table border=\"1\" class=\"dataframe\">\n",
              "  <thead>\n",
              "    <tr style=\"text-align: right;\">\n",
              "      <th></th>\n",
              "      <th>współczynnik załamania n</th>\n",
              "      <th>niepewność un</th>\n",
              "    </tr>\n",
              "  </thead>\n",
              "  <tbody>\n",
              "    <tr>\n",
              "      <th>Brak filtra</th>\n",
              "      <td>1.51</td>\n",
              "      <td>0.02</td>\n",
              "    </tr>\n",
              "    <tr>\n",
              "      <th>Czerwony filtr</th>\n",
              "      <td>1.49</td>\n",
              "      <td>0.01</td>\n",
              "    </tr>\n",
              "    <tr>\n",
              "      <th>Zielony filtr</th>\n",
              "      <td>1.49</td>\n",
              "      <td>0.02</td>\n",
              "    </tr>\n",
              "    <tr>\n",
              "      <th>Niebieski filtr</th>\n",
              "      <td>1.50</td>\n",
              "      <td>0.04</td>\n",
              "    </tr>\n",
              "    <tr>\n",
              "      <th>Żołty filtr</th>\n",
              "      <td>1.51</td>\n",
              "      <td>0.02</td>\n",
              "    </tr>\n",
              "  </tbody>\n",
              "</table>\n",
              "</div>"
            ],
            "text/plain": [
              "                 współczynnik załamania n  niepewność un\n",
              "Brak filtra                          1.51           0.02\n",
              "Czerwony filtr                       1.49           0.01\n",
              "Zielony filtr                        1.49           0.02\n",
              "Niebieski filtr                      1.50           0.04\n",
              "Żołty filtr                          1.51           0.02"
            ]
          },
          "metadata": {
            "tags": []
          },
          "execution_count": 322
        }
      ]
    },
    {
      "cell_type": "code",
      "metadata": {
        "id": "TjL3SgX4AeQW"
      },
      "source": [
        ""
      ],
      "execution_count": 322,
      "outputs": []
    }
  ]
}