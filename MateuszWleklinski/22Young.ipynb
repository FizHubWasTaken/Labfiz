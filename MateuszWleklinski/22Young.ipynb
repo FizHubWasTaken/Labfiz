{
  "nbformat": 4,
  "nbformat_minor": 0,
  "metadata": {
    "colab": {
      "name": "Young.ipynb",
      "provenance": [],
      "collapsed_sections": [],
      "authorship_tag": "ABX9TyMO1UrTUWX3lg3hvhrAmdHp",
      "include_colab_link": true
    },
    "kernelspec": {
      "name": "python3",
      "display_name": "Python 3"
    }
  },
  "cells": [
    {
      "cell_type": "markdown",
      "metadata": {
        "id": "view-in-github",
        "colab_type": "text"
      },
      "source": [
        "<a href=\"https://colab.research.google.com/github/FizHubWasTaken/Labfiz/blob/main/MateuszWleklinski/22Young.ipynb\" target=\"_parent\"><img src=\"https://colab.research.google.com/assets/colab-badge.svg\" alt=\"Open In Colab\"/></a>"
      ]
    },
    {
      "cell_type": "code",
      "metadata": {
        "id": "F6uaxwCtZysD"
      },
      "source": [
        "import pandas as pd\n",
        "import numpy as np\n",
        "import matplotlib.pyplot as plt\n",
        "%matplotlib inline\n",
        "from sklearn.linear_model import LinearRegression\n",
        "from math import pi"
      ],
      "execution_count": null,
      "outputs": []
    },
    {
      "cell_type": "markdown",
      "metadata": {
        "id": "JR521aDPAgkV"
      },
      "source": [
        ""
      ]
    },
    {
      "cell_type": "markdown",
      "metadata": {
        "id": "iC8vbO9KuxpD"
      },
      "source": [
        "#Stal"
      ]
    },
    {
      "cell_type": "code",
      "metadata": {
        "id": "SGqq49YLZ__p"
      },
      "source": [
        "l = 1.09 # dlugość druta [m]\n",
        "d = 0.8e-3 # średnica [m]\n",
        "ul = 2e-3 # niepewność długości [m]\n",
        "ud = 1e-5 # niepewność grubości [m]\n",
        "g = 9.81 # przyspieszenie ziemskie [m/s^2]"
      ],
      "execution_count": null,
      "outputs": []
    },
    {
      "cell_type": "code",
      "metadata": {
        "id": "0CUIrHBVx0Z5"
      },
      "source": [
        "def uE(li, di, ai, uli, udi):\n",
        "  u1 = 4/(pi * di ** 2 * ai) * uli\n",
        "  u2 = 2 * li / (pi * di ** 3 * a) * udi\n",
        "  return (u1**2 + u2**2) ** 0.5"
      ],
      "execution_count": null,
      "outputs": []
    },
    {
      "cell_type": "code",
      "metadata": {
        "id": "KdVs8tu6aW23"
      },
      "source": [
        "labels = [\n",
        "          'Masa odważników [kg]',\n",
        "          'Siła [N]',\n",
        "          'Wskazanie czujnika 1 [m]',\n",
        "          'Wskazanie czujnika 2 [m]',\n",
        "          'Wydłużenie średnie [m]'\n",
        "]\n",
        "m = [i for i in range(1, 10)]\n",
        "F = [mi * g for mi in m]\n",
        "odch1 = \"\"\"85\n",
        "134\n",
        "171\n",
        "201\n",
        "228\n",
        "257\n",
        "281\n",
        "305\n",
        "331\"\"\".split(\"\\n\")\n",
        "odch1 = [float(item) * 1e-5 for item in odch1]\n",
        "\n",
        "odch2 = \"\"\"90\n",
        "137\n",
        "173\n",
        "204\n",
        "229\n",
        "258\n",
        "278\n",
        "306\n",
        "331\"\"\".split(\"\\n\")\n",
        "odch2 = [float(item) * 1e-5 for item in odch2]\n",
        "\n",
        "wydl_sr = [(odch1[i] + odch2[i])/4 for i in range(len(m))]"
      ],
      "execution_count": null,
      "outputs": []
    },
    {
      "cell_type": "code",
      "metadata": {
        "id": "-nv1bNjOb2Ix"
      },
      "source": [
        "dict = {}\n",
        "for i, item in enumerate([m, F, odch1, odch2, wydl_sr]):\n",
        "  dict[labels[i]] = item\n",
        "tab1 = pd.DataFrame(dict)"
      ],
      "execution_count": null,
      "outputs": []
    },
    {
      "cell_type": "code",
      "metadata": {
        "colab": {
          "base_uri": "https://localhost:8080/",
          "height": 314
        },
        "id": "8WSQnk1Ac-jz",
        "outputId": "2b8f82aa-51f8-4924-ce34-dd675518b8bb"
      },
      "source": [
        "tab1"
      ],
      "execution_count": null,
      "outputs": [
        {
          "output_type": "execute_result",
          "data": {
            "text/html": [
              "<div>\n",
              "<style scoped>\n",
              "    .dataframe tbody tr th:only-of-type {\n",
              "        vertical-align: middle;\n",
              "    }\n",
              "\n",
              "    .dataframe tbody tr th {\n",
              "        vertical-align: top;\n",
              "    }\n",
              "\n",
              "    .dataframe thead th {\n",
              "        text-align: right;\n",
              "    }\n",
              "</style>\n",
              "<table border=\"1\" class=\"dataframe\">\n",
              "  <thead>\n",
              "    <tr style=\"text-align: right;\">\n",
              "      <th></th>\n",
              "      <th>Masa odważników [kg]</th>\n",
              "      <th>Siła [N]</th>\n",
              "      <th>Wskazanie czujnika 1 [m]</th>\n",
              "      <th>Wskazanie czujnika 2 [m]</th>\n",
              "      <th>Wydłużenie średnie [m]</th>\n",
              "    </tr>\n",
              "  </thead>\n",
              "  <tbody>\n",
              "    <tr>\n",
              "      <th>0</th>\n",
              "      <td>1</td>\n",
              "      <td>9.81</td>\n",
              "      <td>0.00085</td>\n",
              "      <td>0.00090</td>\n",
              "      <td>0.000438</td>\n",
              "    </tr>\n",
              "    <tr>\n",
              "      <th>1</th>\n",
              "      <td>2</td>\n",
              "      <td>19.62</td>\n",
              "      <td>0.00134</td>\n",
              "      <td>0.00137</td>\n",
              "      <td>0.000678</td>\n",
              "    </tr>\n",
              "    <tr>\n",
              "      <th>2</th>\n",
              "      <td>3</td>\n",
              "      <td>29.43</td>\n",
              "      <td>0.00171</td>\n",
              "      <td>0.00173</td>\n",
              "      <td>0.000860</td>\n",
              "    </tr>\n",
              "    <tr>\n",
              "      <th>3</th>\n",
              "      <td>4</td>\n",
              "      <td>39.24</td>\n",
              "      <td>0.00201</td>\n",
              "      <td>0.00204</td>\n",
              "      <td>0.001012</td>\n",
              "    </tr>\n",
              "    <tr>\n",
              "      <th>4</th>\n",
              "      <td>5</td>\n",
              "      <td>49.05</td>\n",
              "      <td>0.00228</td>\n",
              "      <td>0.00229</td>\n",
              "      <td>0.001143</td>\n",
              "    </tr>\n",
              "    <tr>\n",
              "      <th>5</th>\n",
              "      <td>6</td>\n",
              "      <td>58.86</td>\n",
              "      <td>0.00257</td>\n",
              "      <td>0.00258</td>\n",
              "      <td>0.001288</td>\n",
              "    </tr>\n",
              "    <tr>\n",
              "      <th>6</th>\n",
              "      <td>7</td>\n",
              "      <td>68.67</td>\n",
              "      <td>0.00281</td>\n",
              "      <td>0.00278</td>\n",
              "      <td>0.001398</td>\n",
              "    </tr>\n",
              "    <tr>\n",
              "      <th>7</th>\n",
              "      <td>8</td>\n",
              "      <td>78.48</td>\n",
              "      <td>0.00305</td>\n",
              "      <td>0.00306</td>\n",
              "      <td>0.001528</td>\n",
              "    </tr>\n",
              "    <tr>\n",
              "      <th>8</th>\n",
              "      <td>9</td>\n",
              "      <td>88.29</td>\n",
              "      <td>0.00331</td>\n",
              "      <td>0.00331</td>\n",
              "      <td>0.001655</td>\n",
              "    </tr>\n",
              "  </tbody>\n",
              "</table>\n",
              "</div>"
            ],
            "text/plain": [
              "   Masa odważników [kg]  ...  Wydłużenie średnie [m]\n",
              "0                     1  ...                0.000438\n",
              "1                     2  ...                0.000678\n",
              "2                     3  ...                0.000860\n",
              "3                     4  ...                0.001012\n",
              "4                     5  ...                0.001143\n",
              "5                     6  ...                0.001288\n",
              "6                     7  ...                0.001398\n",
              "7                     8  ...                0.001528\n",
              "8                     9  ...                0.001655\n",
              "\n",
              "[9 rows x 5 columns]"
            ]
          },
          "metadata": {
            "tags": []
          },
          "execution_count": 16
        }
      ]
    },
    {
      "cell_type": "code",
      "metadata": {
        "colab": {
          "base_uri": "https://localhost:8080/",
          "height": 296
        },
        "id": "Wd74_AWRdCGi",
        "outputId": "73ffcffa-f6d0-4e03-dcff-a048e3903548"
      },
      "source": [
        "tab1.plot.scatter(x='Siła [N]', y='Wydłużenie średnie [m]')"
      ],
      "execution_count": null,
      "outputs": [
        {
          "output_type": "execute_result",
          "data": {
            "text/plain": [
              "<matplotlib.axes._subplots.AxesSubplot at 0x7ff0d09e6128>"
            ]
          },
          "metadata": {
            "tags": []
          },
          "execution_count": 17
        },
        {
          "output_type": "display_data",
          "data": {
            "image/png": "[encoded data removed]",
            "text/plain": [
              "<Figure size 432x288 with 1 Axes>"
            ]
          },
          "metadata": {
            "tags": [],
            "needs_background": "light"
          }
        }
      ]
    },
    {
      "cell_type": "markdown",
      "metadata": {
        "id": "Nb1Pf_2NgN4Z"
      },
      "source": [
        "Odrzucamy 2 pierwsze pomiary"
      ]
    },
    {
      "cell_type": "code",
      "metadata": {
        "id": "Re1nhDnndTvw"
      },
      "source": [
        "tab1 = tab1.iloc[2:]"
      ],
      "execution_count": null,
      "outputs": []
    },
    {
      "cell_type": "code",
      "metadata": {
        "colab": {
          "base_uri": "https://localhost:8080/",
          "height": 254
        },
        "id": "DALrB8p6fltk",
        "outputId": "3af4f5a2-6d1f-4e9b-d832-bacbaf28b3b9"
      },
      "source": [
        "tab1"
      ],
      "execution_count": null,
      "outputs": [
        {
          "output_type": "execute_result",
          "data": {
            "text/html": [
              "<div>\n",
              "<style scoped>\n",
              "    .dataframe tbody tr th:only-of-type {\n",
              "        vertical-align: middle;\n",
              "    }\n",
              "\n",
              "    .dataframe tbody tr th {\n",
              "        vertical-align: top;\n",
              "    }\n",
              "\n",
              "    .dataframe thead th {\n",
              "        text-align: right;\n",
              "    }\n",
              "</style>\n",
              "<table border=\"1\" class=\"dataframe\">\n",
              "  <thead>\n",
              "    <tr style=\"text-align: right;\">\n",
              "      <th></th>\n",
              "      <th>Masa odważników [kg]</th>\n",
              "      <th>Siła [N]</th>\n",
              "      <th>Wskazanie czujnika 1 [m]</th>\n",
              "      <th>Wskazanie czujnika 2 [m]</th>\n",
              "      <th>Wydłużenie średnie [m]</th>\n",
              "    </tr>\n",
              "  </thead>\n",
              "  <tbody>\n",
              "    <tr>\n",
              "      <th>2</th>\n",
              "      <td>3</td>\n",
              "      <td>29.43</td>\n",
              "      <td>0.00171</td>\n",
              "      <td>0.00173</td>\n",
              "      <td>0.000860</td>\n",
              "    </tr>\n",
              "    <tr>\n",
              "      <th>3</th>\n",
              "      <td>4</td>\n",
              "      <td>39.24</td>\n",
              "      <td>0.00201</td>\n",
              "      <td>0.00204</td>\n",
              "      <td>0.001012</td>\n",
              "    </tr>\n",
              "    <tr>\n",
              "      <th>4</th>\n",
              "      <td>5</td>\n",
              "      <td>49.05</td>\n",
              "      <td>0.00228</td>\n",
              "      <td>0.00229</td>\n",
              "      <td>0.001143</td>\n",
              "    </tr>\n",
              "    <tr>\n",
              "      <th>5</th>\n",
              "      <td>6</td>\n",
              "      <td>58.86</td>\n",
              "      <td>0.00257</td>\n",
              "      <td>0.00258</td>\n",
              "      <td>0.001288</td>\n",
              "    </tr>\n",
              "    <tr>\n",
              "      <th>6</th>\n",
              "      <td>7</td>\n",
              "      <td>68.67</td>\n",
              "      <td>0.00281</td>\n",
              "      <td>0.00278</td>\n",
              "      <td>0.001398</td>\n",
              "    </tr>\n",
              "    <tr>\n",
              "      <th>7</th>\n",
              "      <td>8</td>\n",
              "      <td>78.48</td>\n",
              "      <td>0.00305</td>\n",
              "      <td>0.00306</td>\n",
              "      <td>0.001528</td>\n",
              "    </tr>\n",
              "    <tr>\n",
              "      <th>8</th>\n",
              "      <td>9</td>\n",
              "      <td>88.29</td>\n",
              "      <td>0.00331</td>\n",
              "      <td>0.00331</td>\n",
              "      <td>0.001655</td>\n",
              "    </tr>\n",
              "  </tbody>\n",
              "</table>\n",
              "</div>"
            ],
            "text/plain": [
              "   Masa odważników [kg]  ...  Wydłużenie średnie [m]\n",
              "2                     3  ...                0.000860\n",
              "3                     4  ...                0.001012\n",
              "4                     5  ...                0.001143\n",
              "5                     6  ...                0.001288\n",
              "6                     7  ...                0.001398\n",
              "7                     8  ...                0.001528\n",
              "8                     9  ...                0.001655\n",
              "\n",
              "[7 rows x 5 columns]"
            ]
          },
          "metadata": {
            "tags": []
          },
          "execution_count": 19
        }
      ]
    },
    {
      "cell_type": "code",
      "metadata": {
        "colab": {
          "base_uri": "https://localhost:8080/",
          "height": 296
        },
        "id": "rWbDRFlkhPqt",
        "outputId": "6ab20fe1-21f4-4013-c7bb-0ca9a1d0e5ac"
      },
      "source": [
        "tab1.plot.scatter(x='Siła [N]', y='Wydłużenie średnie [m]')"
      ],
      "execution_count": null,
      "outputs": [
        {
          "output_type": "execute_result",
          "data": {
            "text/plain": [
              "<matplotlib.axes._subplots.AxesSubplot at 0x7ff0d03c2f60>"
            ]
          },
          "metadata": {
            "tags": []
          },
          "execution_count": 20
        },
        {
          "output_type": "display_data",
          "data": {
            "image/png": "[encoded data removed]",
            "text/plain": [
              "<Figure size 432x288 with 1 Axes>"
            ]
          },
          "metadata": {
            "tags": [],
            "needs_background": "light"
          }
        }
      ]
    },
    {
      "cell_type": "code",
      "metadata": {
        "colab": {
          "base_uri": "https://localhost:8080/"
        },
        "id": "TvoEuAJUhXE4",
        "outputId": "ce751a05-48f8-4fb2-9865-bde216068724"
      },
      "source": [
        "x = np.array(tab1['Siła [N]']).reshape((-1, 1))\n",
        "y = np.array(tab1['Wydłużenie średnie [m]'])\n",
        "model = LinearRegression().fit(x, y)\n",
        "a = model.coef_[0]\n",
        "# (1 - model.score(x, y)) * a\n",
        "a"
      ],
      "execution_count": null,
      "outputs": [
        {
          "output_type": "execute_result",
          "data": {
            "text/plain": [
              "1.336100189311199e-05"
            ]
          },
          "metadata": {
            "tags": []
          },
          "execution_count": 21
        }
      ]
    },
    {
      "cell_type": "code",
      "metadata": {
        "id": "5TkODK1midVW"
      },
      "source": [
        "E1 = 4 * l / (pi * d ** 2 * a) # Moduł Younga"
      ],
      "execution_count": null,
      "outputs": []
    },
    {
      "cell_type": "code",
      "metadata": {
        "colab": {
          "base_uri": "https://localhost:8080/"
        },
        "id": "Y8Lhb5IokMJ0",
        "outputId": "7cbb7eb4-3fea-4165-86b9-99b0dae47676"
      },
      "source": [
        "E1 # 162GPa"
      ],
      "execution_count": null,
      "outputs": [
        {
          "output_type": "execute_result",
          "data": {
            "text/plain": [
              "162299662628.2192"
            ]
          },
          "metadata": {
            "tags": []
          },
          "execution_count": 23
        }
      ]
    },
    {
      "cell_type": "code",
      "metadata": {
        "colab": {
          "base_uri": "https://localhost:8080/"
        },
        "id": "z8vaHtt3kSrA",
        "outputId": "ba1fb7e1-e8c1-4560-a250-ad559f18cc81"
      },
      "source": [
        "uE1 = uE(l, d, a, ul, ud) # 1GPa\n",
        "uE1"
      ],
      "execution_count": null,
      "outputs": [
        {
          "output_type": "execute_result",
          "data": {
            "text/plain": [
              "1057182927.0887513"
            ]
          },
          "metadata": {
            "tags": []
          },
          "execution_count": 24
        }
      ]
    },
    {
      "cell_type": "markdown",
      "metadata": {
        "id": "zl76D0Z1tyts"
      },
      "source": [
        "#Mosiądz"
      ]
    },
    {
      "cell_type": "code",
      "metadata": {
        "id": "KPLbiAuCu_dy"
      },
      "source": [
        "l = 1.098\n",
        "d = 1.23e-3\n",
        "ul = 2e-3\n",
        "ud = 1e-5"
      ],
      "execution_count": null,
      "outputs": []
    },
    {
      "cell_type": "code",
      "metadata": {
        "id": "DoK1X2C8t0M9"
      },
      "source": [
        "m = [0.5 * i for i in range(1, 12)]\n",
        "F = [mi * g for mi in m]\n",
        "\n",
        "\n",
        "odch1 = \"\"\"32\n",
        "56\n",
        "76\n",
        "94\n",
        "111\n",
        "128\n",
        "141\n",
        "154\n",
        "167\n",
        "182\n",
        "192\"\"\".split(\"\\n\")\n",
        "odch1 = [float(item) * 1e-5 for item in odch1]\n",
        "\n",
        "odch2 = \"\"\"31\n",
        "55\n",
        "75\n",
        "95\n",
        "111\n",
        "127\n",
        "141\n",
        "155\n",
        "167\n",
        "178\n",
        "192\"\"\".split(\"\\n\")\n",
        "odch2 = [float(item) * 1e-5 for item in odch2]\n",
        "wydl_sr = [(odch1[i] + odch2[i])/4 for i in range(len(m))]\n",
        "\n"
      ],
      "execution_count": null,
      "outputs": []
    },
    {
      "cell_type": "code",
      "metadata": {
        "id": "VcY6B70fuGHh"
      },
      "source": [
        "dict = {}\n",
        "for i, item in enumerate([m, F, odch1, odch2, wydl_sr]):\n",
        "  dict[labels[i]] = item\n",
        "tab2 = pd.DataFrame(dict)"
      ],
      "execution_count": null,
      "outputs": []
    },
    {
      "cell_type": "code",
      "metadata": {
        "colab": {
          "base_uri": "https://localhost:8080/",
          "height": 373
        },
        "id": "wWRJogKIuiTK",
        "outputId": "715baad5-29c3-4ecd-82b6-d2fa26820493"
      },
      "source": [
        "tab2"
      ],
      "execution_count": null,
      "outputs": [
        {
          "output_type": "execute_result",
          "data": {
            "text/html": [
              "<div>\n",
              "<style scoped>\n",
              "    .dataframe tbody tr th:only-of-type {\n",
              "        vertical-align: middle;\n",
              "    }\n",
              "\n",
              "    .dataframe tbody tr th {\n",
              "        vertical-align: top;\n",
              "    }\n",
              "\n",
              "    .dataframe thead th {\n",
              "        text-align: right;\n",
              "    }\n",
              "</style>\n",
              "<table border=\"1\" class=\"dataframe\">\n",
              "  <thead>\n",
              "    <tr style=\"text-align: right;\">\n",
              "      <th></th>\n",
              "      <th>Masa odważników [kg]</th>\n",
              "      <th>Siła [N]</th>\n",
              "      <th>Wskazanie czujnika 1 [m]</th>\n",
              "      <th>Wskazanie czujnika 2 [m]</th>\n",
              "      <th>Wydłużenie średnie [m]</th>\n",
              "    </tr>\n",
              "  </thead>\n",
              "  <tbody>\n",
              "    <tr>\n",
              "      <th>0</th>\n",
              "      <td>0.5</td>\n",
              "      <td>4.905</td>\n",
              "      <td>0.00032</td>\n",
              "      <td>0.00031</td>\n",
              "      <td>0.000158</td>\n",
              "    </tr>\n",
              "    <tr>\n",
              "      <th>1</th>\n",
              "      <td>1.0</td>\n",
              "      <td>9.810</td>\n",
              "      <td>0.00056</td>\n",
              "      <td>0.00055</td>\n",
              "      <td>0.000278</td>\n",
              "    </tr>\n",
              "    <tr>\n",
              "      <th>2</th>\n",
              "      <td>1.5</td>\n",
              "      <td>14.715</td>\n",
              "      <td>0.00076</td>\n",
              "      <td>0.00075</td>\n",
              "      <td>0.000378</td>\n",
              "    </tr>\n",
              "    <tr>\n",
              "      <th>3</th>\n",
              "      <td>2.0</td>\n",
              "      <td>19.620</td>\n",
              "      <td>0.00094</td>\n",
              "      <td>0.00095</td>\n",
              "      <td>0.000473</td>\n",
              "    </tr>\n",
              "    <tr>\n",
              "      <th>4</th>\n",
              "      <td>2.5</td>\n",
              "      <td>24.525</td>\n",
              "      <td>0.00111</td>\n",
              "      <td>0.00111</td>\n",
              "      <td>0.000555</td>\n",
              "    </tr>\n",
              "    <tr>\n",
              "      <th>5</th>\n",
              "      <td>3.0</td>\n",
              "      <td>29.430</td>\n",
              "      <td>0.00128</td>\n",
              "      <td>0.00127</td>\n",
              "      <td>0.000638</td>\n",
              "    </tr>\n",
              "    <tr>\n",
              "      <th>6</th>\n",
              "      <td>3.5</td>\n",
              "      <td>34.335</td>\n",
              "      <td>0.00141</td>\n",
              "      <td>0.00141</td>\n",
              "      <td>0.000705</td>\n",
              "    </tr>\n",
              "    <tr>\n",
              "      <th>7</th>\n",
              "      <td>4.0</td>\n",
              "      <td>39.240</td>\n",
              "      <td>0.00154</td>\n",
              "      <td>0.00155</td>\n",
              "      <td>0.000773</td>\n",
              "    </tr>\n",
              "    <tr>\n",
              "      <th>8</th>\n",
              "      <td>4.5</td>\n",
              "      <td>44.145</td>\n",
              "      <td>0.00167</td>\n",
              "      <td>0.00167</td>\n",
              "      <td>0.000835</td>\n",
              "    </tr>\n",
              "    <tr>\n",
              "      <th>9</th>\n",
              "      <td>5.0</td>\n",
              "      <td>49.050</td>\n",
              "      <td>0.00182</td>\n",
              "      <td>0.00178</td>\n",
              "      <td>0.000900</td>\n",
              "    </tr>\n",
              "    <tr>\n",
              "      <th>10</th>\n",
              "      <td>5.5</td>\n",
              "      <td>53.955</td>\n",
              "      <td>0.00192</td>\n",
              "      <td>0.00192</td>\n",
              "      <td>0.000960</td>\n",
              "    </tr>\n",
              "  </tbody>\n",
              "</table>\n",
              "</div>"
            ],
            "text/plain": [
              "    Masa odważników [kg]  ...  Wydłużenie średnie [m]\n",
              "0                    0.5  ...                0.000158\n",
              "1                    1.0  ...                0.000278\n",
              "2                    1.5  ...                0.000378\n",
              "3                    2.0  ...                0.000473\n",
              "4                    2.5  ...                0.000555\n",
              "5                    3.0  ...                0.000638\n",
              "6                    3.5  ...                0.000705\n",
              "7                    4.0  ...                0.000773\n",
              "8                    4.5  ...                0.000835\n",
              "9                    5.0  ...                0.000900\n",
              "10                   5.5  ...                0.000960\n",
              "\n",
              "[11 rows x 5 columns]"
            ]
          },
          "metadata": {
            "tags": []
          },
          "execution_count": 28
        }
      ]
    },
    {
      "cell_type": "code",
      "metadata": {
        "colab": {
          "base_uri": "https://localhost:8080/",
          "height": 300
        },
        "id": "B068L7TdujFF",
        "outputId": "dafa8bc0-7ecc-41b8-e8c7-41ea94ececba"
      },
      "source": [
        "tab2.plot.scatter(x=\"Siła [N]\", y=\"Wydłużenie średnie [m]\")"
      ],
      "execution_count": null,
      "outputs": [
        {
          "output_type": "execute_result",
          "data": {
            "text/plain": [
              "<matplotlib.axes._subplots.AxesSubplot at 0x7ff0d0320470>"
            ]
          },
          "metadata": {
            "tags": []
          },
          "execution_count": 29
        },
        {
          "output_type": "display_data",
          "data": {
            "image/png": "[encoded data removed]",
            "text/plain": [
              "<Figure size 432x288 with 1 Axes>"
            ]
          },
          "metadata": {
            "tags": [],
            "needs_background": "light"
          }
        }
      ]
    },
    {
      "cell_type": "code",
      "metadata": {
        "id": "nzida8hMurmM"
      },
      "source": [
        "tab2 = tab2.iloc[4:]"
      ],
      "execution_count": null,
      "outputs": []
    },
    {
      "cell_type": "code",
      "metadata": {
        "colab": {
          "base_uri": "https://localhost:8080/",
          "height": 254
        },
        "id": "Yho1hVC2wFOr",
        "outputId": "7ef1e68e-138c-472f-e862-cbd346075343"
      },
      "source": [
        "tab2"
      ],
      "execution_count": null,
      "outputs": [
        {
          "output_type": "execute_result",
          "data": {
            "text/html": [
              "<div>\n",
              "<style scoped>\n",
              "    .dataframe tbody tr th:only-of-type {\n",
              "        vertical-align: middle;\n",
              "    }\n",
              "\n",
              "    .dataframe tbody tr th {\n",
              "        vertical-align: top;\n",
              "    }\n",
              "\n",
              "    .dataframe thead th {\n",
              "        text-align: right;\n",
              "    }\n",
              "</style>\n",
              "<table border=\"1\" class=\"dataframe\">\n",
              "  <thead>\n",
              "    <tr style=\"text-align: right;\">\n",
              "      <th></th>\n",
              "      <th>Masa odważników [kg]</th>\n",
              "      <th>Siła [N]</th>\n",
              "      <th>Wskazanie czujnika 1 [m]</th>\n",
              "      <th>Wskazanie czujnika 2 [m]</th>\n",
              "      <th>Wydłużenie średnie [m]</th>\n",
              "    </tr>\n",
              "  </thead>\n",
              "  <tbody>\n",
              "    <tr>\n",
              "      <th>4</th>\n",
              "      <td>2.5</td>\n",
              "      <td>24.525</td>\n",
              "      <td>0.00111</td>\n",
              "      <td>0.00111</td>\n",
              "      <td>0.000555</td>\n",
              "    </tr>\n",
              "    <tr>\n",
              "      <th>5</th>\n",
              "      <td>3.0</td>\n",
              "      <td>29.430</td>\n",
              "      <td>0.00128</td>\n",
              "      <td>0.00127</td>\n",
              "      <td>0.000638</td>\n",
              "    </tr>\n",
              "    <tr>\n",
              "      <th>6</th>\n",
              "      <td>3.5</td>\n",
              "      <td>34.335</td>\n",
              "      <td>0.00141</td>\n",
              "      <td>0.00141</td>\n",
              "      <td>0.000705</td>\n",
              "    </tr>\n",
              "    <tr>\n",
              "      <th>7</th>\n",
              "      <td>4.0</td>\n",
              "      <td>39.240</td>\n",
              "      <td>0.00154</td>\n",
              "      <td>0.00155</td>\n",
              "      <td>0.000773</td>\n",
              "    </tr>\n",
              "    <tr>\n",
              "      <th>8</th>\n",
              "      <td>4.5</td>\n",
              "      <td>44.145</td>\n",
              "      <td>0.00167</td>\n",
              "      <td>0.00167</td>\n",
              "      <td>0.000835</td>\n",
              "    </tr>\n",
              "    <tr>\n",
              "      <th>9</th>\n",
              "      <td>5.0</td>\n",
              "      <td>49.050</td>\n",
              "      <td>0.00182</td>\n",
              "      <td>0.00178</td>\n",
              "      <td>0.000900</td>\n",
              "    </tr>\n",
              "    <tr>\n",
              "      <th>10</th>\n",
              "      <td>5.5</td>\n",
              "      <td>53.955</td>\n",
              "      <td>0.00192</td>\n",
              "      <td>0.00192</td>\n",
              "      <td>0.000960</td>\n",
              "    </tr>\n",
              "  </tbody>\n",
              "</table>\n",
              "</div>"
            ],
            "text/plain": [
              "    Masa odważników [kg]  ...  Wydłużenie średnie [m]\n",
              "4                    2.5  ...                0.000555\n",
              "5                    3.0  ...                0.000638\n",
              "6                    3.5  ...                0.000705\n",
              "7                    4.0  ...                0.000773\n",
              "8                    4.5  ...                0.000835\n",
              "9                    5.0  ...                0.000900\n",
              "10                   5.5  ...                0.000960\n",
              "\n",
              "[7 rows x 5 columns]"
            ]
          },
          "metadata": {
            "tags": []
          },
          "execution_count": 31
        }
      ]
    },
    {
      "cell_type": "code",
      "metadata": {
        "colab": {
          "base_uri": "https://localhost:8080/",
          "height": 296
        },
        "id": "94taHAzkvZ6j",
        "outputId": "64390dce-4c94-4929-d194-968bd555f70e"
      },
      "source": [
        "tab2.plot.scatter(x=\"Siła [N]\", y=\"Wydłużenie średnie [m]\")"
      ],
      "execution_count": null,
      "outputs": [
        {
          "output_type": "execute_result",
          "data": {
            "text/plain": [
              "<matplotlib.axes._subplots.AxesSubplot at 0x7ff0d0317a20>"
            ]
          },
          "metadata": {
            "tags": []
          },
          "execution_count": 32
        },
        {
          "output_type": "display_data",
          "data": {
            "image/png": "[encoded data removed]",
            "text/plain": [
              "<Figure size 432x288 with 1 Axes>"
            ]
          },
          "metadata": {
            "tags": [],
            "needs_background": "light"
          }
        }
      ]
    },
    {
      "cell_type": "code",
      "metadata": {
        "colab": {
          "base_uri": "https://localhost:8080/"
        },
        "id": "P-J4jt9Wvb0B",
        "outputId": "af701d47-690e-4af8-826a-5de56e82f3e8"
      },
      "source": [
        "x = np.array(tab2['Siła [N]']).reshape((-1, 1))\n",
        "y = np.array(tab2['Wydłużenie średnie [m]'])\n",
        "model = LinearRegression().fit(x, y)\n",
        "a = model.coef_[0]\n",
        "(1 - model.score(x, y))\n"
      ],
      "execution_count": null,
      "outputs": [
        {
          "output_type": "execute_result",
          "data": {
            "text/plain": [
              "0.0020689753577900483"
            ]
          },
          "metadata": {
            "tags": []
          },
          "execution_count": 33
        }
      ]
    },
    {
      "cell_type": "code",
      "metadata": {
        "id": "p1u20_cevrDn"
      },
      "source": [
        "E2 = 4 * l / (pi * d ** 2 * a)"
      ],
      "execution_count": null,
      "outputs": []
    },
    {
      "cell_type": "code",
      "metadata": {
        "colab": {
          "base_uri": "https://localhost:8080/"
        },
        "id": "InzkfPbNvwdq",
        "outputId": "940deb35-168a-4560-c0b0-347a62391522"
      },
      "source": [
        "E2 # 68GPa"
      ],
      "execution_count": null,
      "outputs": [
        {
          "output_type": "execute_result",
          "data": {
            "text/plain": [
              "67866846914.45799"
            ]
          },
          "metadata": {
            "tags": []
          },
          "execution_count": 35
        }
      ]
    },
    {
      "cell_type": "code",
      "metadata": {
        "colab": {
          "base_uri": "https://localhost:8080/"
        },
        "id": "XYTaDg3Kvx65",
        "outputId": "052c8200-3e65-4d47-ff0e-7a48240aa628"
      },
      "source": [
        "uE2 = uE(l, d, a, ul, ud) # 0.3GPa\n",
        "uE2"
      ],
      "execution_count": null,
      "outputs": [
        {
          "output_type": "execute_result",
          "data": {
            "text/plain": [
              "302311530.86255777"
            ]
          },
          "metadata": {
            "tags": []
          },
          "execution_count": 36
        }
      ]
    },
    {
      "cell_type": "code",
      "metadata": {
        "id": "-5EXjNVIybea"
      },
      "source": [
        ""
      ],
      "execution_count": null,
      "outputs": []
    }
  ]
}