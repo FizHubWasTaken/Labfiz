{
  "nbformat": 4,
  "nbformat_minor": 0,
  "metadata": {
    "colab": {
      "name": "01WahadloFizyczne.ipynb",
      "provenance": [],
      "collapsed_sections": [],
      "authorship_tag": "ABX9TyMvdAaMUJBInxbyuX5fg94c",
      "include_colab_link": true
    },
    "kernelspec": {
      "name": "python3",
      "display_name": "Python 3"
    }
  },
  "cells": [
    {
      "cell_type": "markdown",
      "metadata": {
        "id": "view-in-github",
        "colab_type": "text"
      },
      "source": [
        "<a href=\"https://colab.research.google.com/github/FizHubWasTaken/Labfiz/blob/main/MateuszWleklinski/01WahadloFizyczne.ipynb\" target=\"_parent\"><img src=\"https://colab.research.google.com/assets/colab-badge.svg\" alt=\"Open In Colab\"/></a>"
      ]
    },
    {
      "cell_type": "code",
      "metadata": {
        "id": "CBHfQK2NmUR6"
      },
      "source": [
        "import matplotlib.pyplot as plt\n",
        "import numpy as np\n",
        "import pandas as pd\n",
        "from math import pi\n",
        "from scipy.constants import g\n",
        "pd.options.display.float_format = '{:,.4f}'.format"
      ],
      "execution_count": null,
      "outputs": []
    },
    {
      "cell_type": "code",
      "metadata": {
        "id": "263_Sm2CnmZR"
      },
      "source": [
        "def lst(item):\n",
        "  output = item.replace(\",\", \".\")\n",
        "  output = output.split(\"\\n\")\n",
        "  output = [float(i) for i in output]\n",
        "  return output\n",
        "\n",
        "def FindI(m, um, a, ua, T, uT):\n",
        "  I0 = m * g * a * T ** 2 / (4 * pi ** 2)\n",
        "  u1 = um * m * g * a * T ** 2 / (4 * pi **2)\n",
        "  u2 = m * g * ua * T ** 2 / (4 * pi ** 2)\n",
        "  u3 = 2 * m * g * a * T * uT / (4 * pi ** 2)\n",
        "  uI0 = (u1**2+u2**2+u3**2)**0.5\n",
        "  uIs = ((uI0) ** 2 + (um * a ** 2) ** 2 + (2 * m * ua * a) ** 2) ** 0.5\n",
        "  Is = I0 - m * a ** 2\n",
        "  return I0, uI0, Is, uIs\n"
      ],
      "execution_count": null,
      "outputs": []
    },
    {
      "cell_type": "markdown",
      "metadata": {
        "id": "Pw4qxypcl3U7"
      },
      "source": [
        "#Wahadło Fizyczne"
      ]
    },
    {
      "cell_type": "markdown",
      "metadata": {
        "id": "xedRx36Nl7o6"
      },
      "source": [
        "## Pręt"
      ]
    },
    {
      "cell_type": "code",
      "metadata": {
        "id": "4DCpHw0Klz5m"
      },
      "source": [
        "m=665e-3 #kg\n",
        "um = 1e-3 # kg\n",
        "d = 12e-3 # m - grubość\n",
        "ud = 1e-3 # m\n",
        "l = 0.75 # m - długość\n",
        "ul = 1e-3 # m\n",
        "a = l/2 - 94e-3 # m -odległość osi obrotu od końca \n",
        "ua = 1e-3 # m"
      ],
      "execution_count": null,
      "outputs": []
    },
    {
      "cell_type": "code",
      "metadata": {
        "id": "xyU4Bn-tnL2e"
      },
      "source": [
        "Time = pd.DataFrame()\n",
        "Time[\"30T[s]\"] = lst(\"\"\"40,01\n",
        "40,03\n",
        "39,92\n",
        "39,89\n",
        "39,99\n",
        "40,07\n",
        "40,21\n",
        "40,16\n",
        "40,28\n",
        "39,99\"\"\")\n",
        "uT1 = 0.01 # s - niepewność urządzenia\n",
        "uT2 = Time[\"30T[s]\"].std() # niepewność standardowa\n",
        "uT3 = 0.3 # s - czas reakcji człowieka"
      ],
      "execution_count": null,
      "outputs": []
    },
    {
      "cell_type": "code",
      "metadata": {
        "colab": {
          "base_uri": "https://localhost:8080/",
          "height": 343
        },
        "id": "6Qj-_s2KovTd",
        "outputId": "6a708303-a1ae-43ac-9406-516e2e687f8c"
      },
      "source": [
        "Time[\"T[s]\"] = Time[\"30T[s]\"] / 30\n",
        "Time"
      ],
      "execution_count": null,
      "outputs": [
        {
          "output_type": "execute_result",
          "data": {
            "text/html": [
              "<div>\n",
              "<style scoped>\n",
              "    .dataframe tbody tr th:only-of-type {\n",
              "        vertical-align: middle;\n",
              "    }\n",
              "\n",
              "    .dataframe tbody tr th {\n",
              "        vertical-align: top;\n",
              "    }\n",
              "\n",
              "    .dataframe thead th {\n",
              "        text-align: right;\n",
              "    }\n",
              "</style>\n",
              "<table border=\"1\" class=\"dataframe\">\n",
              "  <thead>\n",
              "    <tr style=\"text-align: right;\">\n",
              "      <th></th>\n",
              "      <th>30T[s]</th>\n",
              "      <th>T[s]</th>\n",
              "    </tr>\n",
              "  </thead>\n",
              "  <tbody>\n",
              "    <tr>\n",
              "      <th>0</th>\n",
              "      <td>40.0100</td>\n",
              "      <td>1.3337</td>\n",
              "    </tr>\n",
              "    <tr>\n",
              "      <th>1</th>\n",
              "      <td>40.0300</td>\n",
              "      <td>1.3343</td>\n",
              "    </tr>\n",
              "    <tr>\n",
              "      <th>2</th>\n",
              "      <td>39.9200</td>\n",
              "      <td>1.3307</td>\n",
              "    </tr>\n",
              "    <tr>\n",
              "      <th>3</th>\n",
              "      <td>39.8900</td>\n",
              "      <td>1.3297</td>\n",
              "    </tr>\n",
              "    <tr>\n",
              "      <th>4</th>\n",
              "      <td>39.9900</td>\n",
              "      <td>1.3330</td>\n",
              "    </tr>\n",
              "    <tr>\n",
              "      <th>5</th>\n",
              "      <td>40.0700</td>\n",
              "      <td>1.3357</td>\n",
              "    </tr>\n",
              "    <tr>\n",
              "      <th>6</th>\n",
              "      <td>40.2100</td>\n",
              "      <td>1.3403</td>\n",
              "    </tr>\n",
              "    <tr>\n",
              "      <th>7</th>\n",
              "      <td>40.1600</td>\n",
              "      <td>1.3387</td>\n",
              "    </tr>\n",
              "    <tr>\n",
              "      <th>8</th>\n",
              "      <td>40.2800</td>\n",
              "      <td>1.3427</td>\n",
              "    </tr>\n",
              "    <tr>\n",
              "      <th>9</th>\n",
              "      <td>39.9900</td>\n",
              "      <td>1.3330</td>\n",
              "    </tr>\n",
              "  </tbody>\n",
              "</table>\n",
              "</div>"
            ],
            "text/plain": [
              "   30T[s]   T[s]\n",
              "0 40.0100 1.3337\n",
              "1 40.0300 1.3343\n",
              "2 39.9200 1.3307\n",
              "3 39.8900 1.3297\n",
              "4 39.9900 1.3330\n",
              "5 40.0700 1.3357\n",
              "6 40.2100 1.3403\n",
              "7 40.1600 1.3387\n",
              "8 40.2800 1.3427\n",
              "9 39.9900 1.3330"
            ]
          },
          "metadata": {
            "tags": []
          },
          "execution_count": 134
        }
      ]
    },
    {
      "cell_type": "code",
      "metadata": {
        "id": "U73YZk0lo6Gw"
      },
      "source": [
        "T = Time[\"T[s]\"].mean()\n",
        "uT = (uT1 ** 2 + uT2 ** 2 + uT3 ** 2) ** 0.5 / 30"
      ],
      "execution_count": null,
      "outputs": []
    },
    {
      "cell_type": "code",
      "metadata": {
        "colab": {
          "base_uri": "https://localhost:8080/"
        },
        "id": "HThcKFpYpN3K",
        "outputId": "dc784924-a84d-471c-e60a-949418c71be6"
      },
      "source": [
        "T # s - okres drgań"
      ],
      "execution_count": null,
      "outputs": [
        {
          "output_type": "execute_result",
          "data": {
            "text/plain": [
              "1.3351666666666666"
            ]
          },
          "metadata": {
            "tags": []
          },
          "execution_count": 136
        }
      ]
    },
    {
      "cell_type": "code",
      "metadata": {
        "colab": {
          "base_uri": "https://localhost:8080/"
        },
        "id": "IHUoog5Hpok2",
        "outputId": "c174f159-9b0f-4aec-9cef-b65fdad14da0"
      },
      "source": [
        "uT"
      ],
      "execution_count": null,
      "outputs": [
        {
          "output_type": "execute_result",
          "data": {
            "text/plain": [
              "0.01084884928756029"
            ]
          },
          "metadata": {
            "tags": []
          },
          "execution_count": 137
        }
      ]
    },
    {
      "cell_type": "code",
      "metadata": {
        "id": "ZF7pHws-wvZI"
      },
      "source": [
        "I0, uI0, Is, uIs = FindI(m, um, a, ua, T, uT)"
      ],
      "execution_count": null,
      "outputs": []
    },
    {
      "cell_type": "code",
      "metadata": {
        "colab": {
          "base_uri": "https://localhost:8080/"
        },
        "id": "aAmsO3NYpo8T",
        "outputId": "fe0baecc-2a15-45e1-819f-464b4c1eec9f"
      },
      "source": [
        "I0 # kg * m^2 Wyznaczony moment bezwładności"
      ],
      "execution_count": null,
      "outputs": [
        {
          "output_type": "execute_result",
          "data": {
            "text/plain": [
              "0.08274844985223674"
            ]
          },
          "metadata": {
            "tags": []
          },
          "execution_count": 139
        }
      ]
    },
    {
      "cell_type": "code",
      "metadata": {
        "id": "Cpy1z6dqscev",
        "colab": {
          "base_uri": "https://localhost:8080/"
        },
        "outputId": "7401e7e6-29ad-4218-c1d1-c118e0f7ae5e"
      },
      "source": [
        "uI0"
      ],
      "execution_count": null,
      "outputs": [
        {
          "output_type": "execute_result",
          "data": {
            "text/plain": [
              "0.0013790896725165368"
            ]
          },
          "metadata": {
            "tags": []
          },
          "execution_count": 140
        }
      ]
    },
    {
      "cell_type": "code",
      "metadata": {
        "colab": {
          "base_uri": "https://localhost:8080/"
        },
        "id": "8qRmCAwytkZg",
        "outputId": "774a570e-f914-4e82-81ca-9eecd95c3115"
      },
      "source": [
        "Is # kg * m^2 moment bezwładności względem osi przechodzącej przez środek masy"
      ],
      "execution_count": null,
      "outputs": [
        {
          "output_type": "execute_result",
          "data": {
            "text/plain": [
              "0.030239384852236727"
            ]
          },
          "metadata": {
            "tags": []
          },
          "execution_count": 141
        }
      ]
    },
    {
      "cell_type": "code",
      "metadata": {
        "id": "cE_j6sUHtyF2",
        "colab": {
          "base_uri": "https://localhost:8080/"
        },
        "outputId": "0f32c19b-e659-4622-b3dd-5451d6e1ffbf"
      },
      "source": [
        "uIs"
      ],
      "execution_count": null,
      "outputs": [
        {
          "output_type": "execute_result",
          "data": {
            "text/plain": [
              "0.001431012675437492"
            ]
          },
          "metadata": {
            "tags": []
          },
          "execution_count": 142
        }
      ]
    },
    {
      "cell_type": "code",
      "metadata": {
        "colab": {
          "base_uri": "https://localhost:8080/",
          "height": 166
        },
        "id": "jiq6hj323EbR",
        "outputId": "b7dde38a-0b36-4e23-f42a-cd349f347ba3"
      },
      "source": [
        "results = pd.DataFrame()\n",
        "results['Pręt'] = [I0, uI0, Is, uIs]\n",
        "results.index = [\"I0\", 'uI0', 'Is', 'uIs']\n",
        "results"
      ],
      "execution_count": null,
      "outputs": [
        {
          "output_type": "execute_result",
          "data": {
            "text/html": [
              "<div>\n",
              "<style scoped>\n",
              "    .dataframe tbody tr th:only-of-type {\n",
              "        vertical-align: middle;\n",
              "    }\n",
              "\n",
              "    .dataframe tbody tr th {\n",
              "        vertical-align: top;\n",
              "    }\n",
              "\n",
              "    .dataframe thead th {\n",
              "        text-align: right;\n",
              "    }\n",
              "</style>\n",
              "<table border=\"1\" class=\"dataframe\">\n",
              "  <thead>\n",
              "    <tr style=\"text-align: right;\">\n",
              "      <th></th>\n",
              "      <th>Pręt</th>\n",
              "    </tr>\n",
              "  </thead>\n",
              "  <tbody>\n",
              "    <tr>\n",
              "      <th>I0</th>\n",
              "      <td>0.0827</td>\n",
              "    </tr>\n",
              "    <tr>\n",
              "      <th>uI0</th>\n",
              "      <td>0.0014</td>\n",
              "    </tr>\n",
              "    <tr>\n",
              "      <th>Is</th>\n",
              "      <td>0.0302</td>\n",
              "    </tr>\n",
              "    <tr>\n",
              "      <th>uIs</th>\n",
              "      <td>0.0014</td>\n",
              "    </tr>\n",
              "  </tbody>\n",
              "</table>\n",
              "</div>"
            ],
            "text/plain": [
              "      Pręt\n",
              "I0  0.0827\n",
              "uI0 0.0014\n",
              "Is  0.0302\n",
              "uIs 0.0014"
            ]
          },
          "metadata": {
            "tags": []
          },
          "execution_count": 143
        }
      ]
    },
    {
      "cell_type": "markdown",
      "metadata": {
        "id": "MHKMYzdLsia-"
      },
      "source": [
        "I = 1/12 * m * L^2"
      ]
    },
    {
      "cell_type": "code",
      "metadata": {
        "id": "7zx5FZiSsmZV"
      },
      "source": [
        "It = 1/12 * m * l**2"
      ],
      "execution_count": null,
      "outputs": []
    },
    {
      "cell_type": "code",
      "metadata": {
        "colab": {
          "base_uri": "https://localhost:8080/"
        },
        "id": "c1_dXQbIsyfR",
        "outputId": "9b1e4462-85be-4c95-9911-f8e84c4d627f"
      },
      "source": [
        "It"
      ],
      "execution_count": null,
      "outputs": [
        {
          "output_type": "execute_result",
          "data": {
            "text/plain": [
              "0.031171875"
            ]
          },
          "metadata": {
            "tags": []
          },
          "execution_count": 145
        }
      ]
    },
    {
      "cell_type": "code",
      "metadata": {
        "id": "t2LhE1lms4U7"
      },
      "source": [
        ""
      ],
      "execution_count": null,
      "outputs": []
    },
    {
      "cell_type": "markdown",
      "metadata": {
        "id": "jbbxco5ysgt7"
      },
      "source": [
        "###Teoria"
      ]
    },
    {
      "cell_type": "code",
      "metadata": {
        "id": "p5iwhIFGseHB"
      },
      "source": [
        "teoria = pd.DataFrame()\r\n",
        "teoria['Pręt'] = [It]"
      ],
      "execution_count": null,
      "outputs": []
    },
    {
      "cell_type": "markdown",
      "metadata": {
        "id": "_5EmBHsqxH0o"
      },
      "source": [
        "## Pierścień"
      ]
    },
    {
      "cell_type": "code",
      "metadata": {
        "id": "bppGNUAcyuo-"
      },
      "source": [
        "def FindData(item, u0, multiplier):\n",
        "  tab = np.array(lst(item))\n",
        "  tab = tab * multiplier\n",
        "  uc = (u0 ** 2 + tab.std() ** 2 ) ** 0.5\n",
        "  return tab.mean(), uc"
      ],
      "execution_count": null,
      "outputs": []
    },
    {
      "cell_type": "code",
      "metadata": {
        "colab": {
          "base_uri": "https://localhost:8080/"
        },
        "id": "KHZXMXJcxah4",
        "outputId": "f57a8c89-8a30-4745-ee38-83d81df43d25"
      },
      "source": [
        "x, ux = FindData(\"\"\"15,5\n",
        "15,5\n",
        "15,5\n",
        "15,5\n",
        "15\n",
        "15,5\n",
        "15\n",
        "15\n",
        "15,5\n",
        "15,5\"\"\", 1e-3, 1e-3)\n",
        "x # grubość pręta [mm]"
      ],
      "execution_count": null,
      "outputs": [
        {
          "output_type": "execute_result",
          "data": {
            "text/plain": [
              "0.015350000000000003"
            ]
          },
          "metadata": {
            "tags": []
          },
          "execution_count": 148
        }
      ]
    },
    {
      "cell_type": "code",
      "metadata": {
        "colab": {
          "base_uri": "https://localhost:8080/"
        },
        "id": "tRhS7UMPyG1u",
        "outputId": "fcc13bf3-1917-4161-e1b7-2136f7cbd0fa"
      },
      "source": [
        "d, ud = FindData(\"\"\"309\n",
        "309\n",
        "310\n",
        "309\n",
        "309\n",
        "308\n",
        "309\n",
        "309\n",
        "309\n",
        "311\"\"\", 1e-3, 1e-3)\n",
        "d # Średnica pierścienia (dłuższa)\n"
      ],
      "execution_count": null,
      "outputs": [
        {
          "output_type": "execute_result",
          "data": {
            "text/plain": [
              "0.30920000000000003"
            ]
          },
          "metadata": {
            "tags": []
          },
          "execution_count": 149
        }
      ]
    },
    {
      "cell_type": "code",
      "metadata": {
        "colab": {
          "base_uri": "https://localhost:8080/"
        },
        "id": "zAvpA7OPzzEo",
        "outputId": "082e3f23-03a3-4059-87e4-f118cd0e79e8"
      },
      "source": [
        "T, uT0 = FindData(\"\"\"32,85\n",
        "32,63\n",
        "32,69\n",
        "32,83\n",
        "32,78\n",
        "32,68\n",
        "33,18\n",
        "32,79\n",
        "32,7\"\"\", 0.1, 1)\n",
        "T = T / 30\n",
        "uT = (uT0 ** 2 + (0.3) ** 2) ** 0.5 / 30\n",
        "T\n"
      ],
      "execution_count": null,
      "outputs": [
        {
          "output_type": "execute_result",
          "data": {
            "text/plain": [
              "1.093074074074074"
            ]
          },
          "metadata": {
            "tags": []
          },
          "execution_count": 150
        }
      ]
    },
    {
      "cell_type": "code",
      "metadata": {
        "colab": {
          "base_uri": "https://localhost:8080/"
        },
        "id": "ci4pyFH10qNS",
        "outputId": "9e630e6c-1773-47c4-9374-39d02945a92f"
      },
      "source": [
        "uT"
      ],
      "execution_count": null,
      "outputs": [
        {
          "output_type": "execute_result",
          "data": {
            "text/plain": [
              "0.011722909698406026"
            ]
          },
          "metadata": {
            "tags": []
          },
          "execution_count": 151
        }
      ]
    },
    {
      "cell_type": "code",
      "metadata": {
        "colab": {
          "base_uri": "https://localhost:8080/"
        },
        "id": "pzcRU5nf0vVL",
        "outputId": "7f7ed99a-9f6e-48ce-f429-bd49f7a0ad91"
      },
      "source": [
        "m, um = FindData(\"\"\"1378\n",
        "1378\n",
        "1378\n",
        "1378\n",
        "1378\n",
        "1378\n",
        "1377\n",
        "1377\n",
        "1377\n",
        "1377\"\"\", 1e-3, 1e-3)\n",
        "m"
      ],
      "execution_count": null,
      "outputs": [
        {
          "output_type": "execute_result",
          "data": {
            "text/plain": [
              "1.3776000000000002"
            ]
          },
          "metadata": {
            "tags": []
          },
          "execution_count": 152
        }
      ]
    },
    {
      "cell_type": "code",
      "metadata": {
        "id": "56XiW2Va1FB3"
      },
      "source": [
        "r = d / 2\n",
        "ur = ud / 2\n",
        "a = r + 8e-3\n",
        "ua = ur"
      ],
      "execution_count": null,
      "outputs": []
    },
    {
      "cell_type": "code",
      "metadata": {
        "id": "ST2ll-T72Ojq"
      },
      "source": [
        "I0, uI0, Is, uIs = FindI(m, um, a, ua, T, uT)"
      ],
      "execution_count": null,
      "outputs": []
    },
    {
      "cell_type": "code",
      "metadata": {
        "colab": {
          "base_uri": "https://localhost:8080/"
        },
        "id": "LiMQcEJB2QDA",
        "outputId": "f154d5c7-cf39-4169-edc2-2f4454d89a47"
      },
      "source": [
        "Is"
      ],
      "execution_count": null,
      "outputs": [
        {
          "output_type": "execute_result",
          "data": {
            "text/plain": [
              "0.0300599222147341"
            ]
          },
          "metadata": {
            "tags": []
          },
          "execution_count": 155
        }
      ]
    },
    {
      "cell_type": "code",
      "metadata": {
        "colab": {
          "base_uri": "https://localhost:8080/",
          "height": 106
        },
        "id": "szulNUJK3Bok",
        "outputId": "54f7392d-744d-4770-9147-c294c64739bb"
      },
      "source": [
        "results['Pierścień'] = [I0, uI0, Is, uIs]\n",
        "results.index = [\"I0\", 'uI0', 'Is', 'uIs']\n",
        "results.transpose()"
      ],
      "execution_count": null,
      "outputs": [
        {
          "output_type": "execute_result",
          "data": {
            "text/html": [
              "<div>\n",
              "<style scoped>\n",
              "    .dataframe tbody tr th:only-of-type {\n",
              "        vertical-align: middle;\n",
              "    }\n",
              "\n",
              "    .dataframe tbody tr th {\n",
              "        vertical-align: top;\n",
              "    }\n",
              "\n",
              "    .dataframe thead th {\n",
              "        text-align: right;\n",
              "    }\n",
              "</style>\n",
              "<table border=\"1\" class=\"dataframe\">\n",
              "  <thead>\n",
              "    <tr style=\"text-align: right;\">\n",
              "      <th></th>\n",
              "      <th>I0</th>\n",
              "      <th>uI0</th>\n",
              "      <th>Is</th>\n",
              "      <th>uIs</th>\n",
              "    </tr>\n",
              "  </thead>\n",
              "  <tbody>\n",
              "    <tr>\n",
              "      <th>Pręt</th>\n",
              "      <td>0.0827</td>\n",
              "      <td>0.0014</td>\n",
              "      <td>0.0302</td>\n",
              "      <td>0.0014</td>\n",
              "    </tr>\n",
              "    <tr>\n",
              "      <th>Pierścień</th>\n",
              "      <td>0.0665</td>\n",
              "      <td>0.0015</td>\n",
              "      <td>0.0301</td>\n",
              "      <td>0.0015</td>\n",
              "    </tr>\n",
              "  </tbody>\n",
              "</table>\n",
              "</div>"
            ],
            "text/plain": [
              "              I0    uI0     Is    uIs\n",
              "Pręt      0.0827 0.0014 0.0302 0.0014\n",
              "Pierścień 0.0665 0.0015 0.0301 0.0015"
            ]
          },
          "metadata": {
            "tags": []
          },
          "execution_count": 156
        }
      ]
    },
    {
      "cell_type": "markdown",
      "metadata": {
        "id": "yDjM9RusrNkU"
      },
      "source": [
        "###Teoria"
      ]
    },
    {
      "cell_type": "markdown",
      "metadata": {
        "id": "nrUeA11xrQHw"
      },
      "source": [
        "Pierścień: I= 1/2 * m * ( R1^2 + R2^2 )"
      ]
    },
    {
      "cell_type": "code",
      "metadata": {
        "id": "HRPHb47brq_Y"
      },
      "source": [
        "r1 = d / 2\n",
        "r2 = r1 - 15e-3"
      ],
      "execution_count": null,
      "outputs": []
    },
    {
      "cell_type": "code",
      "metadata": {
        "id": "W1ZuMln0r4eG"
      },
      "source": [
        "It = 1/2 * m * (r1**2 + r2**2)"
      ],
      "execution_count": null,
      "outputs": []
    },
    {
      "cell_type": "code",
      "metadata": {
        "id": "DZ7kyngfr4wA"
      },
      "source": [
        "teoria['Pierścień'] = [It]"
      ],
      "execution_count": null,
      "outputs": []
    },
    {
      "cell_type": "code",
      "metadata": {
        "id": "rbnPrAYBsFDp"
      },
      "source": [
        "teoria.index = [\"I teoretyczne\"]"
      ],
      "execution_count": null,
      "outputs": []
    },
    {
      "cell_type": "code",
      "metadata": {
        "id": "RaFQdbPytGyd",
        "colab": {
          "base_uri": "https://localhost:8080/",
          "height": 106
        },
        "outputId": "a86ef624-61c7-40db-90f5-5170c37d3b77"
      },
      "source": [
        "teoria.transpose()"
      ],
      "execution_count": null,
      "outputs": [
        {
          "output_type": "execute_result",
          "data": {
            "text/html": [
              "<div>\n",
              "<style scoped>\n",
              "    .dataframe tbody tr th:only-of-type {\n",
              "        vertical-align: middle;\n",
              "    }\n",
              "\n",
              "    .dataframe tbody tr th {\n",
              "        vertical-align: top;\n",
              "    }\n",
              "\n",
              "    .dataframe thead th {\n",
              "        text-align: right;\n",
              "    }\n",
              "</style>\n",
              "<table border=\"1\" class=\"dataframe\">\n",
              "  <thead>\n",
              "    <tr style=\"text-align: right;\">\n",
              "      <th></th>\n",
              "      <th>I teoretyczne</th>\n",
              "    </tr>\n",
              "  </thead>\n",
              "  <tbody>\n",
              "    <tr>\n",
              "      <th>Pręt</th>\n",
              "      <td>0.0312</td>\n",
              "    </tr>\n",
              "    <tr>\n",
              "      <th>Pierścień</th>\n",
              "      <td>0.0299</td>\n",
              "    </tr>\n",
              "  </tbody>\n",
              "</table>\n",
              "</div>"
            ],
            "text/plain": [
              "           I teoretyczne\n",
              "Pręt              0.0312\n",
              "Pierścień         0.0299"
            ]
          },
          "metadata": {
            "tags": []
          },
          "execution_count": 161
        }
      ]
    }
  ]
}