{
  "nbformat": 4,
  "nbformat_minor": 0,
  "metadata": {
    "colab": {
      "name": "Oporniki.ipynb",
      "provenance": [],
      "collapsed_sections": [],
      "authorship_tag": "ABX9TyOXl37EZHj5oA5IFRmHLCkq",
      "include_colab_link": true
    },
    "kernelspec": {
      "name": "python3",
      "display_name": "Python 3"
    }
  },
  "cells": [
    {
      "cell_type": "markdown",
      "metadata": {
        "id": "view-in-github",
        "colab_type": "text"
      },
      "source": [
        "<a href=\"https://colab.research.google.com/github/FizHubWasTaken/Labfiz/blob/main/MateuszWleklinski/Oporniki.ipynb\" target=\"_parent\"><img src=\"https://colab.research.google.com/assets/colab-badge.svg\" alt=\"Open In Colab\"/></a>"
      ]
    },
    {
      "cell_type": "code",
      "metadata": {
        "id": "W54QbidifIeZ"
      },
      "source": [
        "import numpy as np\n",
        "import pandas as pd"
      ],
      "execution_count": null,
      "outputs": []
    },
    {
      "cell_type": "code",
      "metadata": {
        "id": "11Q6nyXFfPjD"
      },
      "source": [
        "L = 1 #m\n",
        "\n",
        "uR = 1 #om\n",
        "ua = 2e-3 #m"
      ],
      "execution_count": null,
      "outputs": []
    },
    {
      "cell_type": "code",
      "metadata": {
        "id": "GCY7MCF-fRC7"
      },
      "source": [
        "def unc(R, a, uR, ua):\n",
        "    u1 = R * L / (L - a) ** 2 * ua\n",
        "    u2 = a / (L - a) * uR\n",
        "    return (u1 ** 2 + u2 ** 2) ** 0.5"
      ],
      "execution_count": null,
      "outputs": []
    },
    {
      "cell_type": "markdown",
      "metadata": {
        "id": "P5hgLghRfT7u"
      },
      "source": [
        "# Opor 2"
      ]
    },
    {
      "cell_type": "code",
      "metadata": {
        "id": "sadr-_6EfScX",
        "colab": {
          "base_uri": "https://localhost:8080/"
        },
        "outputId": "046cdc36-f482-47d8-fcea-8369353bd128"
      },
      "source": [
        "R = [83, 69, 58, 49, 42, 35.5, 30, 26, 22, 18.5, 15.3]\n",
        "a = [(300 + 40 * i) / 1000 for i in range(11)]\n",
        "Rx = [R[i] * a[i] / (L - a[i]) for i in range(11)]\n",
        "uRx = [unc(R[i], a[i], uR, ua) for i in range(11)]\n",
        "\n",
        "\n",
        "R2 = pd.DataFrame({\n",
        "    'R': R,\n",
        "    'a': a,\n",
        "    'Rx': Rx,\n",
        "    'uRx': uRx\n",
        "})\n",
        "R2['Rx'].std()"
      ],
      "execution_count": null,
      "outputs": [
        {
          "output_type": "execute_result",
          "data": {
            "text/plain": [
              "0.21825816210662233"
            ]
          },
          "metadata": {
            "tags": []
          },
          "execution_count": 31
        }
      ]
    },
    {
      "cell_type": "code",
      "metadata": {
        "colab": {
          "base_uri": "https://localhost:8080/",
          "height": 373
        },
        "id": "fzON4KFyfcS1",
        "outputId": "9a6abfed-0ef3-4fc5-c99d-1dc6056ad67e"
      },
      "source": [
        "R2"
      ],
      "execution_count": null,
      "outputs": [
        {
          "output_type": "execute_result",
          "data": {
            "text/html": [
              "<div>\n",
              "<style scoped>\n",
              "    .dataframe tbody tr th:only-of-type {\n",
              "        vertical-align: middle;\n",
              "    }\n",
              "\n",
              "    .dataframe tbody tr th {\n",
              "        vertical-align: top;\n",
              "    }\n",
              "\n",
              "    .dataframe thead th {\n",
              "        text-align: right;\n",
              "    }\n",
              "</style>\n",
              "<table border=\"1\" class=\"dataframe\">\n",
              "  <thead>\n",
              "    <tr style=\"text-align: right;\">\n",
              "      <th></th>\n",
              "      <th>R</th>\n",
              "      <th>a</th>\n",
              "      <th>Rx</th>\n",
              "      <th>uRx</th>\n",
              "    </tr>\n",
              "  </thead>\n",
              "  <tbody>\n",
              "    <tr>\n",
              "      <th>0</th>\n",
              "      <td>83.0</td>\n",
              "      <td>0.30</td>\n",
              "      <td>35.571429</td>\n",
              "      <td>0.546299</td>\n",
              "    </tr>\n",
              "    <tr>\n",
              "      <th>1</th>\n",
              "      <td>69.0</td>\n",
              "      <td>0.34</td>\n",
              "      <td>35.545455</td>\n",
              "      <td>0.604769</td>\n",
              "    </tr>\n",
              "    <tr>\n",
              "      <th>2</th>\n",
              "      <td>58.0</td>\n",
              "      <td>0.38</td>\n",
              "      <td>35.548387</td>\n",
              "      <td>0.683165</td>\n",
              "    </tr>\n",
              "    <tr>\n",
              "      <th>3</th>\n",
              "      <td>49.0</td>\n",
              "      <td>0.42</td>\n",
              "      <td>35.482759</td>\n",
              "      <td>0.780540</td>\n",
              "    </tr>\n",
              "    <tr>\n",
              "      <th>4</th>\n",
              "      <td>42.0</td>\n",
              "      <td>0.46</td>\n",
              "      <td>35.777778</td>\n",
              "      <td>0.899241</td>\n",
              "    </tr>\n",
              "    <tr>\n",
              "      <th>5</th>\n",
              "      <td>35.5</td>\n",
              "      <td>0.50</td>\n",
              "      <td>35.500000</td>\n",
              "      <td>1.039546</td>\n",
              "    </tr>\n",
              "    <tr>\n",
              "      <th>6</th>\n",
              "      <td>30.0</td>\n",
              "      <td>0.54</td>\n",
              "      <td>35.217391</td>\n",
              "      <td>1.207673</td>\n",
              "    </tr>\n",
              "    <tr>\n",
              "      <th>7</th>\n",
              "      <td>26.0</td>\n",
              "      <td>0.58</td>\n",
              "      <td>35.904762</td>\n",
              "      <td>1.412065</td>\n",
              "    </tr>\n",
              "    <tr>\n",
              "      <th>8</th>\n",
              "      <td>22.0</td>\n",
              "      <td>0.62</td>\n",
              "      <td>35.894737</td>\n",
              "      <td>1.659788</td>\n",
              "    </tr>\n",
              "    <tr>\n",
              "      <th>9</th>\n",
              "      <td>18.5</td>\n",
              "      <td>0.66</td>\n",
              "      <td>35.911765</td>\n",
              "      <td>1.967387</td>\n",
              "    </tr>\n",
              "    <tr>\n",
              "      <th>10</th>\n",
              "      <td>15.3</td>\n",
              "      <td>0.70</td>\n",
              "      <td>35.700000</td>\n",
              "      <td>2.357975</td>\n",
              "    </tr>\n",
              "  </tbody>\n",
              "</table>\n",
              "</div>"
            ],
            "text/plain": [
              "       R     a         Rx       uRx\n",
              "0   83.0  0.30  35.571429  0.546299\n",
              "1   69.0  0.34  35.545455  0.604769\n",
              "2   58.0  0.38  35.548387  0.683165\n",
              "3   49.0  0.42  35.482759  0.780540\n",
              "4   42.0  0.46  35.777778  0.899241\n",
              "5   35.5  0.50  35.500000  1.039546\n",
              "6   30.0  0.54  35.217391  1.207673\n",
              "7   26.0  0.58  35.904762  1.412065\n",
              "8   22.0  0.62  35.894737  1.659788\n",
              "9   18.5  0.66  35.911765  1.967387\n",
              "10  15.3  0.70  35.700000  2.357975"
            ]
          },
          "metadata": {
            "tags": []
          },
          "execution_count": 32
        }
      ]
    },
    {
      "cell_type": "markdown",
      "metadata": {
        "id": "xtVoKCO1fime"
      },
      "source": [
        "# Opor 3"
      ]
    },
    {
      "cell_type": "code",
      "metadata": {
        "colab": {
          "base_uri": "https://localhost:8080/",
          "height": 373
        },
        "id": "6INmcfQDffNW",
        "outputId": "94c763e3-38af-41f6-a912-ff46f1f52be1"
      },
      "source": [
        "R = '109 91 76 64 55 47 40 34 28.5 24 20'.split(' ')\n",
        "R = [float(item) for item in R]\n",
        "Rx = [R[i] * a[i] / (L - a[i]) for i in range(11)]\n",
        "uRx = [unc(R[i], a[i], uR, ua) for i in range(11)]\n",
        "R3 = pd.DataFrame({\n",
        "    'R': R,\n",
        "    'a': a,\n",
        "    'Rx': Rx,\n",
        "    'uRx': uRx\n",
        "})\n",
        "R3"
      ],
      "execution_count": null,
      "outputs": [
        {
          "output_type": "execute_result",
          "data": {
            "text/html": [
              "<div>\n",
              "<style scoped>\n",
              "    .dataframe tbody tr th:only-of-type {\n",
              "        vertical-align: middle;\n",
              "    }\n",
              "\n",
              "    .dataframe tbody tr th {\n",
              "        vertical-align: top;\n",
              "    }\n",
              "\n",
              "    .dataframe thead th {\n",
              "        text-align: right;\n",
              "    }\n",
              "</style>\n",
              "<table border=\"1\" class=\"dataframe\">\n",
              "  <thead>\n",
              "    <tr style=\"text-align: right;\">\n",
              "      <th></th>\n",
              "      <th>R</th>\n",
              "      <th>a</th>\n",
              "      <th>Rx</th>\n",
              "      <th>uRx</th>\n",
              "    </tr>\n",
              "  </thead>\n",
              "  <tbody>\n",
              "    <tr>\n",
              "      <th>0</th>\n",
              "      <td>109.0</td>\n",
              "      <td>0.30</td>\n",
              "      <td>46.714286</td>\n",
              "      <td>0.617744</td>\n",
              "    </tr>\n",
              "    <tr>\n",
              "      <th>1</th>\n",
              "      <td>91.0</td>\n",
              "      <td>0.34</td>\n",
              "      <td>46.878788</td>\n",
              "      <td>0.663287</td>\n",
              "    </tr>\n",
              "    <tr>\n",
              "      <th>2</th>\n",
              "      <td>76.0</td>\n",
              "      <td>0.38</td>\n",
              "      <td>46.580645</td>\n",
              "      <td>0.729389</td>\n",
              "    </tr>\n",
              "    <tr>\n",
              "      <th>3</th>\n",
              "      <td>64.0</td>\n",
              "      <td>0.42</td>\n",
              "      <td>46.344828</td>\n",
              "      <td>0.818019</td>\n",
              "    </tr>\n",
              "    <tr>\n",
              "      <th>4</th>\n",
              "      <td>55.0</td>\n",
              "      <td>0.46</td>\n",
              "      <td>46.851852</td>\n",
              "      <td>0.931640</td>\n",
              "    </tr>\n",
              "    <tr>\n",
              "      <th>5</th>\n",
              "      <td>47.0</td>\n",
              "      <td>0.50</td>\n",
              "      <td>47.000000</td>\n",
              "      <td>1.068352</td>\n",
              "    </tr>\n",
              "    <tr>\n",
              "      <th>6</th>\n",
              "      <td>40.0</td>\n",
              "      <td>0.54</td>\n",
              "      <td>46.956522</td>\n",
              "      <td>1.233292</td>\n",
              "    </tr>\n",
              "    <tr>\n",
              "      <th>7</th>\n",
              "      <td>34.0</td>\n",
              "      <td>0.58</td>\n",
              "      <td>46.952381</td>\n",
              "      <td>1.433747</td>\n",
              "    </tr>\n",
              "    <tr>\n",
              "      <th>8</th>\n",
              "      <td>28.5</td>\n",
              "      <td>0.62</td>\n",
              "      <td>46.500000</td>\n",
              "      <td>1.678650</td>\n",
              "    </tr>\n",
              "    <tr>\n",
              "      <th>9</th>\n",
              "      <td>24.0</td>\n",
              "      <td>0.66</td>\n",
              "      <td>46.588235</td>\n",
              "      <td>1.985089</td>\n",
              "    </tr>\n",
              "    <tr>\n",
              "      <th>10</th>\n",
              "      <td>20.0</td>\n",
              "      <td>0.70</td>\n",
              "      <td>46.666667</td>\n",
              "      <td>2.375284</td>\n",
              "    </tr>\n",
              "  </tbody>\n",
              "</table>\n",
              "</div>"
            ],
            "text/plain": [
              "        R     a         Rx       uRx\n",
              "0   109.0  0.30  46.714286  0.617744\n",
              "1    91.0  0.34  46.878788  0.663287\n",
              "2    76.0  0.38  46.580645  0.729389\n",
              "3    64.0  0.42  46.344828  0.818019\n",
              "4    55.0  0.46  46.851852  0.931640\n",
              "5    47.0  0.50  47.000000  1.068352\n",
              "6    40.0  0.54  46.956522  1.233292\n",
              "7    34.0  0.58  46.952381  1.433747\n",
              "8    28.5  0.62  46.500000  1.678650\n",
              "9    24.0  0.66  46.588235  1.985089\n",
              "10   20.0  0.70  46.666667  2.375284"
            ]
          },
          "metadata": {
            "tags": []
          },
          "execution_count": 33
        }
      ]
    },
    {
      "cell_type": "code",
      "metadata": {
        "colab": {
          "base_uri": "https://localhost:8080/"
        },
        "id": "3ydnnUwwJbMO",
        "outputId": "cd2cad1b-ebaf-4565-af3c-46b691e1105e"
      },
      "source": [
        "R3['Rx'].std()"
      ],
      "execution_count": null,
      "outputs": [
        {
          "output_type": "execute_result",
          "data": {
            "text/plain": [
              "0.21414234169326962"
            ]
          },
          "metadata": {
            "tags": []
          },
          "execution_count": 34
        }
      ]
    },
    {
      "cell_type": "markdown",
      "metadata": {
        "id": "BNOJCKGBfp2D"
      },
      "source": [
        "Opor 4"
      ]
    },
    {
      "cell_type": "code",
      "metadata": {
        "id": "1YZZp0dIfm2H"
      },
      "source": [
        "ua = 3e-3\n",
        "uR = 2"
      ],
      "execution_count": null,
      "outputs": []
    },
    {
      "cell_type": "code",
      "metadata": {
        "colab": {
          "base_uri": "https://localhost:8080/",
          "height": 373
        },
        "id": "zLJQgP8Gfs8N",
        "outputId": "f05afe30-3896-4e79-b30a-c5f3f3c21653"
      },
      "source": [
        "R = '163 136 114 97.5 82.5 70 60 51 43 36 30'.split()\n",
        "R = [float(item) for item in R]\n",
        "Rx = [R[i] * a[i] / (L - a[i]) for i in range(11)]\n",
        "uRx = [unc(R[i], a[i], uR, ua) for i in range(11)]\n",
        "R4 = pd.DataFrame({\n",
        "    'R': R,\n",
        "    'a': a,\n",
        "    'Rx': Rx,\n",
        "    'uRx': uRx\n",
        "})\n",
        "R4"
      ],
      "execution_count": null,
      "outputs": [
        {
          "output_type": "execute_result",
          "data": {
            "text/html": [
              "<div>\n",
              "<style scoped>\n",
              "    .dataframe tbody tr th:only-of-type {\n",
              "        vertical-align: middle;\n",
              "    }\n",
              "\n",
              "    .dataframe tbody tr th {\n",
              "        vertical-align: top;\n",
              "    }\n",
              "\n",
              "    .dataframe thead th {\n",
              "        text-align: right;\n",
              "    }\n",
              "</style>\n",
              "<table border=\"1\" class=\"dataframe\">\n",
              "  <thead>\n",
              "    <tr style=\"text-align: right;\">\n",
              "      <th></th>\n",
              "      <th>R</th>\n",
              "      <th>a</th>\n",
              "      <th>Rx</th>\n",
              "      <th>uRx</th>\n",
              "    </tr>\n",
              "  </thead>\n",
              "  <tbody>\n",
              "    <tr>\n",
              "      <th>0</th>\n",
              "      <td>163.0</td>\n",
              "      <td>0.30</td>\n",
              "      <td>69.857143</td>\n",
              "      <td>1.315529</td>\n",
              "    </tr>\n",
              "    <tr>\n",
              "      <th>1</th>\n",
              "      <td>136.0</td>\n",
              "      <td>0.34</td>\n",
              "      <td>70.060606</td>\n",
              "      <td>1.392414</td>\n",
              "    </tr>\n",
              "    <tr>\n",
              "      <th>2</th>\n",
              "      <td>114.0</td>\n",
              "      <td>0.38</td>\n",
              "      <td>69.870968</td>\n",
              "      <td>1.514650</td>\n",
              "    </tr>\n",
              "    <tr>\n",
              "      <th>3</th>\n",
              "      <td>97.5</td>\n",
              "      <td>0.42</td>\n",
              "      <td>70.603448</td>\n",
              "      <td>1.689241</td>\n",
              "    </tr>\n",
              "    <tr>\n",
              "      <th>4</th>\n",
              "      <td>82.5</td>\n",
              "      <td>0.46</td>\n",
              "      <td>70.277778</td>\n",
              "      <td>1.903420</td>\n",
              "    </tr>\n",
              "    <tr>\n",
              "      <th>5</th>\n",
              "      <td>70.0</td>\n",
              "      <td>0.50</td>\n",
              "      <td>70.000000</td>\n",
              "      <td>2.169239</td>\n",
              "    </tr>\n",
              "    <tr>\n",
              "      <th>6</th>\n",
              "      <td>60.0</td>\n",
              "      <td>0.54</td>\n",
              "      <td>70.434783</td>\n",
              "      <td>2.497181</td>\n",
              "    </tr>\n",
              "    <tr>\n",
              "      <th>7</th>\n",
              "      <td>51.0</td>\n",
              "      <td>0.58</td>\n",
              "      <td>70.428571</td>\n",
              "      <td>2.894894</td>\n",
              "    </tr>\n",
              "    <tr>\n",
              "      <th>8</th>\n",
              "      <td>43.0</td>\n",
              "      <td>0.62</td>\n",
              "      <td>70.157895</td>\n",
              "      <td>3.383235</td>\n",
              "    </tr>\n",
              "    <tr>\n",
              "      <th>9</th>\n",
              "      <td>36.0</td>\n",
              "      <td>0.66</td>\n",
              "      <td>69.882353</td>\n",
              "      <td>3.993182</td>\n",
              "    </tr>\n",
              "    <tr>\n",
              "      <th>10</th>\n",
              "      <td>30.0</td>\n",
              "      <td>0.70</td>\n",
              "      <td>70.000000</td>\n",
              "      <td>4.772607</td>\n",
              "    </tr>\n",
              "  </tbody>\n",
              "</table>\n",
              "</div>"
            ],
            "text/plain": [
              "        R     a         Rx       uRx\n",
              "0   163.0  0.30  69.857143  1.315529\n",
              "1   136.0  0.34  70.060606  1.392414\n",
              "2   114.0  0.38  69.870968  1.514650\n",
              "3    97.5  0.42  70.603448  1.689241\n",
              "4    82.5  0.46  70.277778  1.903420\n",
              "5    70.0  0.50  70.000000  2.169239\n",
              "6    60.0  0.54  70.434783  2.497181\n",
              "7    51.0  0.58  70.428571  2.894894\n",
              "8    43.0  0.62  70.157895  3.383235\n",
              "9    36.0  0.66  69.882353  3.993182\n",
              "10   30.0  0.70  70.000000  4.772607"
            ]
          },
          "metadata": {
            "tags": []
          },
          "execution_count": 36
        }
      ]
    },
    {
      "cell_type": "code",
      "metadata": {
        "colab": {
          "base_uri": "https://localhost:8080/"
        },
        "id": "40sxyclCJmW4",
        "outputId": "9d624b62-34ec-4595-9c32-2e90e5ae5b76"
      },
      "source": [
        "R4['Rx'].std()"
      ],
      "execution_count": null,
      "outputs": [
        {
          "output_type": "execute_result",
          "data": {
            "text/plain": [
              "0.25853957685291856"
            ]
          },
          "metadata": {
            "tags": []
          },
          "execution_count": 37
        }
      ]
    },
    {
      "cell_type": "markdown",
      "metadata": {
        "id": "Zb0L0U1sf12V"
      },
      "source": [
        "# Opór 5 pierwsze 30cm"
      ]
    },
    {
      "cell_type": "code",
      "metadata": {
        "colab": {
          "base_uri": "https://localhost:8080/",
          "height": 343
        },
        "id": "X3VX-y2CfvTF",
        "outputId": "c4e55dd8-12dc-4022-b3ef-bc5708e90c6e"
      },
      "source": [
        "ua = 4e-3\n",
        "uR = 10\n",
        "\n",
        "R = '2350 1280 858 628 490 397 328 278 238 207'.split()\n",
        "R = [float(item) for item in R]\n",
        "a = [(30 * i) / 1000 for i in range(1, 11)]\n",
        "Rx = [R[i] * a[i] / (L - a[i]) for i in range(10)]\n",
        "uRx = [unc(R[i], a[i], uR, ua) for i in range(10)]\n",
        "R5a = pd.DataFrame({\n",
        "    'R': R,\n",
        "    'a': a,\n",
        "    'Rx': Rx,\n",
        "    'uRx': uRx\n",
        "})\n",
        "R5a"
      ],
      "execution_count": null,
      "outputs": [
        {
          "output_type": "execute_result",
          "data": {
            "text/html": [
              "<div>\n",
              "<style scoped>\n",
              "    .dataframe tbody tr th:only-of-type {\n",
              "        vertical-align: middle;\n",
              "    }\n",
              "\n",
              "    .dataframe tbody tr th {\n",
              "        vertical-align: top;\n",
              "    }\n",
              "\n",
              "    .dataframe thead th {\n",
              "        text-align: right;\n",
              "    }\n",
              "</style>\n",
              "<table border=\"1\" class=\"dataframe\">\n",
              "  <thead>\n",
              "    <tr style=\"text-align: right;\">\n",
              "      <th></th>\n",
              "      <th>R</th>\n",
              "      <th>a</th>\n",
              "      <th>Rx</th>\n",
              "      <th>uRx</th>\n",
              "    </tr>\n",
              "  </thead>\n",
              "  <tbody>\n",
              "    <tr>\n",
              "      <th>0</th>\n",
              "      <td>2350.0</td>\n",
              "      <td>0.03</td>\n",
              "      <td>72.680412</td>\n",
              "      <td>9.995221</td>\n",
              "    </tr>\n",
              "    <tr>\n",
              "      <th>1</th>\n",
              "      <td>1280.0</td>\n",
              "      <td>0.06</td>\n",
              "      <td>81.702128</td>\n",
              "      <td>5.829527</td>\n",
              "    </tr>\n",
              "    <tr>\n",
              "      <th>2</th>\n",
              "      <td>858.0</td>\n",
              "      <td>0.09</td>\n",
              "      <td>84.857143</td>\n",
              "      <td>4.260800</td>\n",
              "    </tr>\n",
              "    <tr>\n",
              "      <th>3</th>\n",
              "      <td>628.0</td>\n",
              "      <td>0.12</td>\n",
              "      <td>85.636364</td>\n",
              "      <td>3.518772</td>\n",
              "    </tr>\n",
              "    <tr>\n",
              "      <th>4</th>\n",
              "      <td>490.0</td>\n",
              "      <td>0.15</td>\n",
              "      <td>86.470588</td>\n",
              "      <td>3.236277</td>\n",
              "    </tr>\n",
              "    <tr>\n",
              "      <th>5</th>\n",
              "      <td>397.0</td>\n",
              "      <td>0.18</td>\n",
              "      <td>87.146341</td>\n",
              "      <td>3.224304</td>\n",
              "    </tr>\n",
              "    <tr>\n",
              "      <th>6</th>\n",
              "      <td>328.0</td>\n",
              "      <td>0.21</td>\n",
              "      <td>87.189873</td>\n",
              "      <td>3.389032</td>\n",
              "    </tr>\n",
              "    <tr>\n",
              "      <th>7</th>\n",
              "      <td>278.0</td>\n",
              "      <td>0.24</td>\n",
              "      <td>87.789474</td>\n",
              "      <td>3.698476</td>\n",
              "    </tr>\n",
              "    <tr>\n",
              "      <th>8</th>\n",
              "      <td>238.0</td>\n",
              "      <td>0.27</td>\n",
              "      <td>88.027397</td>\n",
              "      <td>4.107466</td>\n",
              "    </tr>\n",
              "    <tr>\n",
              "      <th>9</th>\n",
              "      <td>207.0</td>\n",
              "      <td>0.30</td>\n",
              "      <td>88.714286</td>\n",
              "      <td>4.606816</td>\n",
              "    </tr>\n",
              "  </tbody>\n",
              "</table>\n",
              "</div>"
            ],
            "text/plain": [
              "        R     a         Rx       uRx\n",
              "0  2350.0  0.03  72.680412  9.995221\n",
              "1  1280.0  0.06  81.702128  5.829527\n",
              "2   858.0  0.09  84.857143  4.260800\n",
              "3   628.0  0.12  85.636364  3.518772\n",
              "4   490.0  0.15  86.470588  3.236277\n",
              "5   397.0  0.18  87.146341  3.224304\n",
              "6   328.0  0.21  87.189873  3.389032\n",
              "7   278.0  0.24  87.789474  3.698476\n",
              "8   238.0  0.27  88.027397  4.107466\n",
              "9   207.0  0.30  88.714286  4.606816"
            ]
          },
          "metadata": {
            "tags": []
          },
          "execution_count": 38
        }
      ]
    },
    {
      "cell_type": "code",
      "metadata": {
        "colab": {
          "base_uri": "https://localhost:8080/"
        },
        "id": "fO945snjJr2e",
        "outputId": "589ffc5b-4ca2-4744-8d05-772baea1a122"
      },
      "source": [
        "R5a['Rx'].std()"
      ],
      "execution_count": null,
      "outputs": [
        {
          "output_type": "execute_result",
          "data": {
            "text/plain": [
              "4.776983721568216"
            ]
          },
          "metadata": {
            "tags": []
          },
          "execution_count": 39
        }
      ]
    },
    {
      "cell_type": "code",
      "metadata": {
        "colab": {
          "base_uri": "https://localhost:8080/"
        },
        "id": "rFF8QiNCjg7c",
        "outputId": "8c07b48e-e57c-4363-cec8-3bf0e7928e14"
      },
      "source": [
        "R5a['Rx'].mean()"
      ],
      "execution_count": null,
      "outputs": [
        {
          "output_type": "execute_result",
          "data": {
            "text/plain": [
              "85.02140062994155"
            ]
          },
          "metadata": {
            "tags": []
          },
          "execution_count": 40
        }
      ]
    },
    {
      "cell_type": "markdown",
      "metadata": {
        "id": "vaFcmu-FgBcB"
      },
      "source": [
        "# R5 środek"
      ]
    },
    {
      "cell_type": "code",
      "metadata": {
        "colab": {
          "base_uri": "https://localhost:8080/",
          "height": 432
        },
        "id": "zvAklTmEf7QC",
        "outputId": "471f6570-49ee-45df-f7a0-86d2702a6f6b"
      },
      "source": [
        "ua = 2e-3\n",
        "uR = 2\n",
        "\n",
        "R = '179 157 137 121 108 96 84 75 66 58.5 52 45 39.7'.split()\n",
        "R = [float(item) for item in R]\n",
        "a = [(330 + 30 * i) / 1000 for i in range(13)]\n",
        "Rx = [R[i] * a[i] / (L - a[i]) for i in range(13)]\n",
        "uRx = [unc(R[i], a[i], uR, ua) for i in range(13)]\n",
        "R5b = pd.DataFrame({\n",
        "    'R': R,\n",
        "    'a': a,\n",
        "    'Rx': Rx,\n",
        "    'uRx': uRx\n",
        "})\n",
        "R5b"
      ],
      "execution_count": null,
      "outputs": [
        {
          "output_type": "execute_result",
          "data": {
            "text/html": [
              "<div>\n",
              "<style scoped>\n",
              "    .dataframe tbody tr th:only-of-type {\n",
              "        vertical-align: middle;\n",
              "    }\n",
              "\n",
              "    .dataframe tbody tr th {\n",
              "        vertical-align: top;\n",
              "    }\n",
              "\n",
              "    .dataframe thead th {\n",
              "        text-align: right;\n",
              "    }\n",
              "</style>\n",
              "<table border=\"1\" class=\"dataframe\">\n",
              "  <thead>\n",
              "    <tr style=\"text-align: right;\">\n",
              "      <th></th>\n",
              "      <th>R</th>\n",
              "      <th>a</th>\n",
              "      <th>Rx</th>\n",
              "      <th>uRx</th>\n",
              "    </tr>\n",
              "  </thead>\n",
              "  <tbody>\n",
              "    <tr>\n",
              "      <th>0</th>\n",
              "      <td>179.0</td>\n",
              "      <td>0.33</td>\n",
              "      <td>88.164179</td>\n",
              "      <td>1.267433</td>\n",
              "    </tr>\n",
              "    <tr>\n",
              "      <th>1</th>\n",
              "      <td>157.0</td>\n",
              "      <td>0.36</td>\n",
              "      <td>88.312500</td>\n",
              "      <td>1.361361</td>\n",
              "    </tr>\n",
              "    <tr>\n",
              "      <th>2</th>\n",
              "      <td>137.0</td>\n",
              "      <td>0.39</td>\n",
              "      <td>87.590164</td>\n",
              "      <td>1.475558</td>\n",
              "    </tr>\n",
              "    <tr>\n",
              "      <th>3</th>\n",
              "      <td>121.0</td>\n",
              "      <td>0.42</td>\n",
              "      <td>87.620690</td>\n",
              "      <td>1.617100</td>\n",
              "    </tr>\n",
              "    <tr>\n",
              "      <th>4</th>\n",
              "      <td>108.0</td>\n",
              "      <td>0.45</td>\n",
              "      <td>88.363636</td>\n",
              "      <td>1.785372</td>\n",
              "    </tr>\n",
              "    <tr>\n",
              "      <th>5</th>\n",
              "      <td>96.0</td>\n",
              "      <td>0.48</td>\n",
              "      <td>88.615385</td>\n",
              "      <td>1.977996</td>\n",
              "    </tr>\n",
              "    <tr>\n",
              "      <th>6</th>\n",
              "      <td>84.0</td>\n",
              "      <td>0.51</td>\n",
              "      <td>87.428571</td>\n",
              "      <td>2.196084</td>\n",
              "    </tr>\n",
              "    <tr>\n",
              "      <th>7</th>\n",
              "      <td>75.0</td>\n",
              "      <td>0.54</td>\n",
              "      <td>88.043478</td>\n",
              "      <td>2.452510</td>\n",
              "    </tr>\n",
              "    <tr>\n",
              "      <th>8</th>\n",
              "      <td>66.0</td>\n",
              "      <td>0.57</td>\n",
              "      <td>87.488372</td>\n",
              "      <td>2.745599</td>\n",
              "    </tr>\n",
              "    <tr>\n",
              "      <th>9</th>\n",
              "      <td>58.5</td>\n",
              "      <td>0.60</td>\n",
              "      <td>87.750000</td>\n",
              "      <td>3.087835</td>\n",
              "    </tr>\n",
              "    <tr>\n",
              "      <th>10</th>\n",
              "      <td>52.0</td>\n",
              "      <td>0.63</td>\n",
              "      <td>88.540541</td>\n",
              "      <td>3.489111</td>\n",
              "    </tr>\n",
              "    <tr>\n",
              "      <th>11</th>\n",
              "      <td>45.0</td>\n",
              "      <td>0.66</td>\n",
              "      <td>87.352941</td>\n",
              "      <td>3.959646</td>\n",
              "    </tr>\n",
              "    <tr>\n",
              "      <th>12</th>\n",
              "      <td>39.7</td>\n",
              "      <td>0.69</td>\n",
              "      <td>88.364516</td>\n",
              "      <td>4.527638</td>\n",
              "    </tr>\n",
              "  </tbody>\n",
              "</table>\n",
              "</div>"
            ],
            "text/plain": [
              "        R     a         Rx       uRx\n",
              "0   179.0  0.33  88.164179  1.267433\n",
              "1   157.0  0.36  88.312500  1.361361\n",
              "2   137.0  0.39  87.590164  1.475558\n",
              "3   121.0  0.42  87.620690  1.617100\n",
              "4   108.0  0.45  88.363636  1.785372\n",
              "5    96.0  0.48  88.615385  1.977996\n",
              "6    84.0  0.51  87.428571  2.196084\n",
              "7    75.0  0.54  88.043478  2.452510\n",
              "8    66.0  0.57  87.488372  2.745599\n",
              "9    58.5  0.60  87.750000  3.087835\n",
              "10   52.0  0.63  88.540541  3.489111\n",
              "11   45.0  0.66  87.352941  3.959646\n",
              "12   39.7  0.69  88.364516  4.527638"
            ]
          },
          "metadata": {
            "tags": []
          },
          "execution_count": 41
        }
      ]
    },
    {
      "cell_type": "code",
      "metadata": {
        "colab": {
          "base_uri": "https://localhost:8080/"
        },
        "id": "wVwTS2UyjbNt",
        "outputId": "f3d4bda5-4cee-40cf-adbf-307ebf38a218"
      },
      "source": [
        "R5b['Rx'].mean()"
      ],
      "execution_count": null,
      "outputs": [
        {
          "output_type": "execute_result",
          "data": {
            "text/plain": [
              "87.97192102320037"
            ]
          },
          "metadata": {
            "tags": []
          },
          "execution_count": 42
        }
      ]
    },
    {
      "cell_type": "code",
      "metadata": {
        "colab": {
          "base_uri": "https://localhost:8080/"
        },
        "id": "dF_A0yP0LMaY",
        "outputId": "25586f70-46b6-4a40-d987-dc2912222a32"
      },
      "source": [
        "R5b['Rx'].std()"
      ],
      "execution_count": null,
      "outputs": [
        {
          "output_type": "execute_result",
          "data": {
            "text/plain": [
              "0.45032935283623665"
            ]
          },
          "metadata": {
            "tags": []
          },
          "execution_count": 43
        }
      ]
    },
    {
      "cell_type": "markdown",
      "metadata": {
        "id": "pNWjtdb0gLoc"
      },
      "source": [
        "# Opór 5 ostatnie 30cm\n"
      ]
    },
    {
      "cell_type": "code",
      "metadata": {
        "colab": {
          "base_uri": "https://localhost:8080/",
          "height": 343
        },
        "id": "8qayPzlMgFqf",
        "outputId": "d6852497-2f06-4283-9a90-699e5d64ee36"
      },
      "source": [
        "ua = 1e-3\n",
        "uR = 0.5\n",
        "\n",
        "R = '34.5\t30\t25\t21.3\t17.5\t14\t10.7\t7.7\t5\t3.5'.split('\\t')\n",
        "R = [float(item) for item in R]\n",
        "a = [(720 + 30 * i) / 1000 for i in range(10)]\n",
        "a[9] = 0.975\n",
        "Rx = [R[i] * a[i] / (L - a[i]) for i in range(10)]\n",
        "uRx = [unc(R[i], a[i], uR, ua) for i in range(10)]\n",
        "R5c = pd.DataFrame({\n",
        "    'R': R,\n",
        "    'a': a,\n",
        "    'Rx': Rx,\n",
        "    'uRx': uRx\n",
        "})\n",
        "R5c"
      ],
      "execution_count": null,
      "outputs": [
        {
          "output_type": "execute_result",
          "data": {
            "text/html": [
              "<div>\n",
              "<style scoped>\n",
              "    .dataframe tbody tr th:only-of-type {\n",
              "        vertical-align: middle;\n",
              "    }\n",
              "\n",
              "    .dataframe tbody tr th {\n",
              "        vertical-align: top;\n",
              "    }\n",
              "\n",
              "    .dataframe thead th {\n",
              "        text-align: right;\n",
              "    }\n",
              "</style>\n",
              "<table border=\"1\" class=\"dataframe\">\n",
              "  <thead>\n",
              "    <tr style=\"text-align: right;\">\n",
              "      <th></th>\n",
              "      <th>R</th>\n",
              "      <th>a</th>\n",
              "      <th>Rx</th>\n",
              "      <th>uRx</th>\n",
              "    </tr>\n",
              "  </thead>\n",
              "  <tbody>\n",
              "    <tr>\n",
              "      <th>0</th>\n",
              "      <td>34.5</td>\n",
              "      <td>0.720</td>\n",
              "      <td>88.714286</td>\n",
              "      <td>1.358936</td>\n",
              "    </tr>\n",
              "    <tr>\n",
              "      <th>1</th>\n",
              "      <td>30.0</td>\n",
              "      <td>0.750</td>\n",
              "      <td>90.000000</td>\n",
              "      <td>1.574929</td>\n",
              "    </tr>\n",
              "    <tr>\n",
              "      <th>2</th>\n",
              "      <td>25.0</td>\n",
              "      <td>0.780</td>\n",
              "      <td>88.636364</td>\n",
              "      <td>1.846446</td>\n",
              "    </tr>\n",
              "    <tr>\n",
              "      <th>3</th>\n",
              "      <td>21.3</td>\n",
              "      <td>0.810</td>\n",
              "      <td>90.805263</td>\n",
              "      <td>2.211733</td>\n",
              "    </tr>\n",
              "    <tr>\n",
              "      <th>4</th>\n",
              "      <td>17.5</td>\n",
              "      <td>0.840</td>\n",
              "      <td>91.875000</td>\n",
              "      <td>2.712550</td>\n",
              "    </tr>\n",
              "    <tr>\n",
              "      <th>5</th>\n",
              "      <td>14.0</td>\n",
              "      <td>0.870</td>\n",
              "      <td>93.692308</td>\n",
              "      <td>3.447172</td>\n",
              "    </tr>\n",
              "    <tr>\n",
              "      <th>6</th>\n",
              "      <td>10.7</td>\n",
              "      <td>0.900</td>\n",
              "      <td>96.300000</td>\n",
              "      <td>4.625462</td>\n",
              "    </tr>\n",
              "    <tr>\n",
              "      <th>7</th>\n",
              "      <td>7.7</td>\n",
              "      <td>0.930</td>\n",
              "      <td>102.300000</td>\n",
              "      <td>6.826195</td>\n",
              "    </tr>\n",
              "    <tr>\n",
              "      <th>8</th>\n",
              "      <td>5.0</td>\n",
              "      <td>0.960</td>\n",
              "      <td>120.000000</td>\n",
              "      <td>12.400227</td>\n",
              "    </tr>\n",
              "    <tr>\n",
              "      <th>9</th>\n",
              "      <td>3.5</td>\n",
              "      <td>0.975</td>\n",
              "      <td>136.500000</td>\n",
              "      <td>20.288174</td>\n",
              "    </tr>\n",
              "  </tbody>\n",
              "</table>\n",
              "</div>"
            ],
            "text/plain": [
              "      R      a          Rx        uRx\n",
              "0  34.5  0.720   88.714286   1.358936\n",
              "1  30.0  0.750   90.000000   1.574929\n",
              "2  25.0  0.780   88.636364   1.846446\n",
              "3  21.3  0.810   90.805263   2.211733\n",
              "4  17.5  0.840   91.875000   2.712550\n",
              "5  14.0  0.870   93.692308   3.447172\n",
              "6  10.7  0.900   96.300000   4.625462\n",
              "7   7.7  0.930  102.300000   6.826195\n",
              "8   5.0  0.960  120.000000  12.400227\n",
              "9   3.5  0.975  136.500000  20.288174"
            ]
          },
          "metadata": {
            "tags": []
          },
          "execution_count": 44
        }
      ]
    },
    {
      "cell_type": "code",
      "metadata": {
        "colab": {
          "base_uri": "https://localhost:8080/"
        },
        "id": "d_pcOnSkjV5g",
        "outputId": "aafabd83-cea2-41f4-e6ed-5aaafc10ccfc"
      },
      "source": [
        "R5c['Rx'].mean()"
      ],
      "execution_count": null,
      "outputs": [
        {
          "output_type": "execute_result",
          "data": {
            "text/plain": [
              "99.88232202008518"
            ]
          },
          "metadata": {
            "tags": []
          },
          "execution_count": 45
        }
      ]
    },
    {
      "cell_type": "code",
      "metadata": {
        "colab": {
          "base_uri": "https://localhost:8080/"
        },
        "id": "DnfPHhMLLRSl",
        "outputId": "4b9d6b0a-79d5-4faf-bb15-e91d0072dcfc"
      },
      "source": [
        "R5c['Rx'].std()"
      ],
      "execution_count": null,
      "outputs": [
        {
          "output_type": "execute_result",
          "data": {
            "text/plain": [
              "15.978933666682801"
            ]
          },
          "metadata": {
            "tags": []
          },
          "execution_count": 46
        }
      ]
    },
    {
      "cell_type": "markdown",
      "metadata": {
        "id": "WJHmk69ag88r"
      },
      "source": [
        "# Równolegle (3, 4) i szeregowo 5"
      ]
    },
    {
      "cell_type": "code",
      "metadata": {
        "id": "NTfbwMvPgQfb"
      },
      "source": [
        "ua = 2e-3\n",
        "uR = 1.5"
      ],
      "execution_count": null,
      "outputs": []
    },
    {
      "cell_type": "code",
      "metadata": {
        "colab": {
          "base_uri": "https://localhost:8080/",
          "height": 373
        },
        "id": "aNvhqTtchHRJ",
        "outputId": "6e245dce-20ab-481e-a2d3-059a9c32b5cc"
      },
      "source": [
        "R = '274\t226\t191\t161\t136.5\t116.5\t100\t85\t72\t60.5\t50.5'.split('\\t')\n",
        "R = [float(item) for item in R]\n",
        "a = [(300 + 40 * i) / 1000 for i in range(11)]\n",
        "Rx = [R[i] * a[i] / (L - a[i]) for i in range(11)]\n",
        "uRx = [unc(R[i], a[i], uR, ua) for i in range(11)]\n",
        "\n",
        "\n",
        "Rv1 = pd.DataFrame({\n",
        "    'R': R,\n",
        "    'a': a,\n",
        "    'Rx': Rx,\n",
        "    'uRx': uRx\n",
        "})\n",
        "Rv1\n"
      ],
      "execution_count": null,
      "outputs": [
        {
          "output_type": "execute_result",
          "data": {
            "text/html": [
              "<div>\n",
              "<style scoped>\n",
              "    .dataframe tbody tr th:only-of-type {\n",
              "        vertical-align: middle;\n",
              "    }\n",
              "\n",
              "    .dataframe tbody tr th {\n",
              "        vertical-align: top;\n",
              "    }\n",
              "\n",
              "    .dataframe thead th {\n",
              "        text-align: right;\n",
              "    }\n",
              "</style>\n",
              "<table border=\"1\" class=\"dataframe\">\n",
              "  <thead>\n",
              "    <tr style=\"text-align: right;\">\n",
              "      <th></th>\n",
              "      <th>R</th>\n",
              "      <th>a</th>\n",
              "      <th>Rx</th>\n",
              "      <th>uRx</th>\n",
              "    </tr>\n",
              "  </thead>\n",
              "  <tbody>\n",
              "    <tr>\n",
              "      <th>0</th>\n",
              "      <td>274.0</td>\n",
              "      <td>0.30</td>\n",
              "      <td>117.428571</td>\n",
              "      <td>1.289965</td>\n",
              "    </tr>\n",
              "    <tr>\n",
              "      <th>1</th>\n",
              "      <td>226.0</td>\n",
              "      <td>0.34</td>\n",
              "      <td>116.424242</td>\n",
              "      <td>1.293763</td>\n",
              "    </tr>\n",
              "    <tr>\n",
              "      <th>2</th>\n",
              "      <td>191.0</td>\n",
              "      <td>0.38</td>\n",
              "      <td>117.064516</td>\n",
              "      <td>1.353797</td>\n",
              "    </tr>\n",
              "    <tr>\n",
              "      <th>3</th>\n",
              "      <td>161.0</td>\n",
              "      <td>0.42</td>\n",
              "      <td>116.586207</td>\n",
              "      <td>1.447779</td>\n",
              "    </tr>\n",
              "    <tr>\n",
              "      <th>4</th>\n",
              "      <td>136.5</td>\n",
              "      <td>0.46</td>\n",
              "      <td>116.277778</td>\n",
              "      <td>1.584049</td>\n",
              "    </tr>\n",
              "    <tr>\n",
              "      <th>5</th>\n",
              "      <td>116.5</td>\n",
              "      <td>0.50</td>\n",
              "      <td>116.500000</td>\n",
              "      <td>1.765963</td>\n",
              "    </tr>\n",
              "    <tr>\n",
              "      <th>6</th>\n",
              "      <td>100.0</td>\n",
              "      <td>0.54</td>\n",
              "      <td>117.391304</td>\n",
              "      <td>1.998506</td>\n",
              "    </tr>\n",
              "    <tr>\n",
              "      <th>7</th>\n",
              "      <td>85.0</td>\n",
              "      <td>0.58</td>\n",
              "      <td>117.380952</td>\n",
              "      <td>2.284638</td>\n",
              "    </tr>\n",
              "    <tr>\n",
              "      <th>8</th>\n",
              "      <td>72.0</td>\n",
              "      <td>0.62</td>\n",
              "      <td>117.473684</td>\n",
              "      <td>2.642741</td>\n",
              "    </tr>\n",
              "    <tr>\n",
              "      <th>9</th>\n",
              "      <td>60.5</td>\n",
              "      <td>0.66</td>\n",
              "      <td>117.441176</td>\n",
              "      <td>3.094185</td>\n",
              "    </tr>\n",
              "    <tr>\n",
              "      <th>10</th>\n",
              "      <td>50.5</td>\n",
              "      <td>0.70</td>\n",
              "      <td>117.833333</td>\n",
              "      <td>3.675511</td>\n",
              "    </tr>\n",
              "  </tbody>\n",
              "</table>\n",
              "</div>"
            ],
            "text/plain": [
              "        R     a          Rx       uRx\n",
              "0   274.0  0.30  117.428571  1.289965\n",
              "1   226.0  0.34  116.424242  1.293763\n",
              "2   191.0  0.38  117.064516  1.353797\n",
              "3   161.0  0.42  116.586207  1.447779\n",
              "4   136.5  0.46  116.277778  1.584049\n",
              "5   116.5  0.50  116.500000  1.765963\n",
              "6   100.0  0.54  117.391304  1.998506\n",
              "7    85.0  0.58  117.380952  2.284638\n",
              "8    72.0  0.62  117.473684  2.642741\n",
              "9    60.5  0.66  117.441176  3.094185\n",
              "10   50.5  0.70  117.833333  3.675511"
            ]
          },
          "metadata": {
            "tags": []
          },
          "execution_count": 48
        }
      ]
    },
    {
      "cell_type": "code",
      "metadata": {
        "colab": {
          "base_uri": "https://localhost:8080/"
        },
        "id": "suaMFb0cLYVK",
        "outputId": "28b889c7-6e41-4e90-8ca6-47833d6b7cf9"
      },
      "source": [
        "Rv1['Rx'].std()"
      ],
      "execution_count": null,
      "outputs": [
        {
          "output_type": "execute_result",
          "data": {
            "text/plain": [
              "0.5306057890106661"
            ]
          },
          "metadata": {
            "tags": []
          },
          "execution_count": 49
        }
      ]
    },
    {
      "cell_type": "code",
      "metadata": {
        "colab": {
          "base_uri": "https://localhost:8080/"
        },
        "id": "nWLMO9CdjQxC",
        "outputId": "69118185-48b7-4ece-c368-6afb46a8fbe7"
      },
      "source": [
        "Rv1['Rx'].mean()"
      ],
      "execution_count": null,
      "outputs": [
        {
          "output_type": "execute_result",
          "data": {
            "text/plain": [
              "117.072887763582"
            ]
          },
          "metadata": {
            "tags": []
          },
          "execution_count": 50
        }
      ]
    },
    {
      "cell_type": "markdown",
      "metadata": {
        "id": "wEoieVsHiVU2"
      },
      "source": [
        "# Szeregowo(2, 5) połączono równolegle z Szeregowo(3, 4)"
      ]
    },
    {
      "cell_type": "code",
      "metadata": {
        "id": "3Gf6ljyuhhCd"
      },
      "source": [
        "uR = 1.5\n",
        "ua = 4e-3"
      ],
      "execution_count": null,
      "outputs": []
    },
    {
      "cell_type": "code",
      "metadata": {
        "colab": {
          "base_uri": "https://localhost:8080/",
          "height": 373
        },
        "id": "S28fvWzwih88",
        "outputId": "452783fe-16f2-4acb-f797-727cd5308f11"
      },
      "source": [
        "\n",
        "R = [147, 122, 102.5, 88, 74.5, 63.3, 54, 46, 39, 32.6, 27.2]\n",
        "a = [(300 + 40 * i) / 1000 for i in range(11)]\n",
        "Rx = [R[i] * a[i] / (L - a[i]) for i in range(11)]\n",
        "uRx = [unc(R[i], a[i], uR, ua) for i in range(11)]\n",
        "\n",
        "\n",
        "Rv2 = pd.DataFrame({\n",
        "    'R': R,\n",
        "    'a': a,\n",
        "    'Rx': Rx,\n",
        "    'uRx': uRx\n",
        "})\n",
        "Rv2\n"
      ],
      "execution_count": null,
      "outputs": [
        {
          "output_type": "execute_result",
          "data": {
            "text/html": [
              "<div>\n",
              "<style scoped>\n",
              "    .dataframe tbody tr th:only-of-type {\n",
              "        vertical-align: middle;\n",
              "    }\n",
              "\n",
              "    .dataframe tbody tr th {\n",
              "        vertical-align: top;\n",
              "    }\n",
              "\n",
              "    .dataframe thead th {\n",
              "        text-align: right;\n",
              "    }\n",
              "</style>\n",
              "<table border=\"1\" class=\"dataframe\">\n",
              "  <thead>\n",
              "    <tr style=\"text-align: right;\">\n",
              "      <th></th>\n",
              "      <th>R</th>\n",
              "      <th>a</th>\n",
              "      <th>Rx</th>\n",
              "      <th>uRx</th>\n",
              "    </tr>\n",
              "  </thead>\n",
              "  <tbody>\n",
              "    <tr>\n",
              "      <th>0</th>\n",
              "      <td>147.0</td>\n",
              "      <td>0.30</td>\n",
              "      <td>63.000000</td>\n",
              "      <td>1.361347</td>\n",
              "    </tr>\n",
              "    <tr>\n",
              "      <th>1</th>\n",
              "      <td>122.0</td>\n",
              "      <td>0.34</td>\n",
              "      <td>62.848485</td>\n",
              "      <td>1.360943</td>\n",
              "    </tr>\n",
              "    <tr>\n",
              "      <th>2</th>\n",
              "      <td>102.5</td>\n",
              "      <td>0.38</td>\n",
              "      <td>62.822581</td>\n",
              "      <td>1.408135</td>\n",
              "    </tr>\n",
              "    <tr>\n",
              "      <th>3</th>\n",
              "      <td>88.0</td>\n",
              "      <td>0.42</td>\n",
              "      <td>63.724138</td>\n",
              "      <td>1.508225</td>\n",
              "    </tr>\n",
              "    <tr>\n",
              "      <th>4</th>\n",
              "      <td>74.5</td>\n",
              "      <td>0.46</td>\n",
              "      <td>63.462963</td>\n",
              "      <td>1.636183</td>\n",
              "    </tr>\n",
              "    <tr>\n",
              "      <th>5</th>\n",
              "      <td>63.3</td>\n",
              "      <td>0.50</td>\n",
              "      <td>63.300000</td>\n",
              "      <td>1.809907</td>\n",
              "    </tr>\n",
              "    <tr>\n",
              "      <th>6</th>\n",
              "      <td>54.0</td>\n",
              "      <td>0.54</td>\n",
              "      <td>63.391304</td>\n",
              "      <td>2.035358</td>\n",
              "    </tr>\n",
              "    <tr>\n",
              "      <th>7</th>\n",
              "      <td>46.0</td>\n",
              "      <td>0.58</td>\n",
              "      <td>63.523810</td>\n",
              "      <td>2.319233</td>\n",
              "    </tr>\n",
              "    <tr>\n",
              "      <th>8</th>\n",
              "      <td>39.0</td>\n",
              "      <td>0.62</td>\n",
              "      <td>63.631579</td>\n",
              "      <td>2.675207</td>\n",
              "    </tr>\n",
              "    <tr>\n",
              "      <th>9</th>\n",
              "      <td>32.6</td>\n",
              "      <td>0.66</td>\n",
              "      <td>63.282353</td>\n",
              "      <td>3.122630</td>\n",
              "    </tr>\n",
              "    <tr>\n",
              "      <th>10</th>\n",
              "      <td>27.2</td>\n",
              "      <td>0.70</td>\n",
              "      <td>63.466667</td>\n",
              "      <td>3.702892</td>\n",
              "    </tr>\n",
              "  </tbody>\n",
              "</table>\n",
              "</div>"
            ],
            "text/plain": [
              "        R     a         Rx       uRx\n",
              "0   147.0  0.30  63.000000  1.361347\n",
              "1   122.0  0.34  62.848485  1.360943\n",
              "2   102.5  0.38  62.822581  1.408135\n",
              "3    88.0  0.42  63.724138  1.508225\n",
              "4    74.5  0.46  63.462963  1.636183\n",
              "5    63.3  0.50  63.300000  1.809907\n",
              "6    54.0  0.54  63.391304  2.035358\n",
              "7    46.0  0.58  63.523810  2.319233\n",
              "8    39.0  0.62  63.631579  2.675207\n",
              "9    32.6  0.66  63.282353  3.122630\n",
              "10   27.2  0.70  63.466667  3.702892"
            ]
          },
          "metadata": {
            "tags": []
          },
          "execution_count": 63
        }
      ]
    },
    {
      "cell_type": "code",
      "metadata": {
        "colab": {
          "base_uri": "https://localhost:8080/"
        },
        "id": "-4DAsVazi3Ri",
        "outputId": "fb7d5872-583d-4157-8f7b-ac0108de9211"
      },
      "source": [
        "Rv2['Rx'].mean()"
      ],
      "execution_count": null,
      "outputs": [
        {
          "output_type": "execute_result",
          "data": {
            "text/plain": [
              "63.31398898313552"
            ]
          },
          "metadata": {
            "tags": []
          },
          "execution_count": 64
        }
      ]
    },
    {
      "cell_type": "code",
      "metadata": {
        "colab": {
          "base_uri": "https://localhost:8080/"
        },
        "id": "qj43K4oGLcZz",
        "outputId": "8940acdf-2268-4a23-b8e8-6c0d97922071"
      },
      "source": [
        "Rv2['Rx'].std()"
      ],
      "execution_count": null,
      "outputs": [
        {
          "output_type": "execute_result",
          "data": {
            "text/plain": [
              "0.30373565115113155"
            ]
          },
          "metadata": {
            "tags": []
          },
          "execution_count": 65
        }
      ]
    },
    {
      "cell_type": "markdown",
      "metadata": {
        "id": "bQN_p5BLj10d"
      },
      "source": [
        "## Oczekiwana Wartość"
      ]
    },
    {
      "cell_type": "markdown",
      "metadata": {
        "id": "hqRESHqrj7pj"
      },
      "source": [
        "### Rv1"
      ]
    },
    {
      "cell_type": "code",
      "metadata": {
        "id": "U1ZsCnZBjJUo"
      },
      "source": [
        "Rt1 = 1 / (1/R3['Rx'].mean() + 1/R4['Rx'].mean()) + R5b['Rx'].mean()"
      ],
      "execution_count": null,
      "outputs": []
    },
    {
      "cell_type": "code",
      "metadata": {
        "colab": {
          "base_uri": "https://localhost:8080/"
        },
        "id": "v8IdZz-vkZ9d",
        "outputId": "cd4ae56e-c59a-4dab-8a2d-c7636fe721ec"
      },
      "source": [
        "Rt1"
      ],
      "execution_count": null,
      "outputs": [
        {
          "output_type": "execute_result",
          "data": {
            "text/plain": [
              "116.01774340406715"
            ]
          },
          "metadata": {
            "tags": []
          },
          "execution_count": 67
        }
      ]
    },
    {
      "cell_type": "code",
      "metadata": {
        "colab": {
          "base_uri": "https://localhost:8080/"
        },
        "id": "2uVSSfFekdX5",
        "outputId": "26cfff4c-9d01-470e-91ef-00be7ace5b5b"
      },
      "source": [
        "Rv1['Rx'].mean()"
      ],
      "execution_count": null,
      "outputs": [
        {
          "output_type": "execute_result",
          "data": {
            "text/plain": [
              "117.072887763582"
            ]
          },
          "metadata": {
            "tags": []
          },
          "execution_count": 93
        }
      ]
    },
    {
      "cell_type": "code",
      "metadata": {
        "id": "KtS5V0zycZnu",
        "colab": {
          "base_uri": "https://localhost:8080/"
        },
        "outputId": "208c1519-6b5d-4b02-ae2c-5be633b5feab"
      },
      "source": [
        "Rv1['uRx'].mean()"
      ],
      "execution_count": null,
      "outputs": [
        {
          "output_type": "execute_result",
          "data": {
            "text/plain": [
              "2.0391725440877826"
            ]
          },
          "metadata": {
            "tags": []
          },
          "execution_count": 94
        }
      ]
    },
    {
      "cell_type": "markdown",
      "metadata": {
        "id": "5JeF-r1-lLdw"
      },
      "source": [
        "Zgodne w ramach niepewności pomiarowej"
      ]
    },
    {
      "cell_type": "markdown",
      "metadata": {
        "id": "5wVGn5IBlPPb"
      },
      "source": [
        "### Rv2"
      ]
    },
    {
      "cell_type": "code",
      "metadata": {
        "id": "1BJjq69SkeRK"
      },
      "source": [
        "Rt2 = 1/(1/(R2['Rx'].mean() + R5b['Rx'].mean()) + 1 / (R3['Rx'].mean() + R4['Rx'].mean()))"
      ],
      "execution_count": null,
      "outputs": []
    },
    {
      "cell_type": "code",
      "metadata": {
        "colab": {
          "base_uri": "https://localhost:8080/"
        },
        "id": "KVyLz5s1lsgC",
        "outputId": "361e38ab-d09b-492f-d369-edd41c5a56b0"
      },
      "source": [
        "Rt2"
      ],
      "execution_count": null,
      "outputs": [
        {
          "output_type": "execute_result",
          "data": {
            "text/plain": [
              "60.07444490525176"
            ]
          },
          "metadata": {
            "tags": []
          },
          "execution_count": 70
        }
      ]
    },
    {
      "cell_type": "code",
      "metadata": {
        "colab": {
          "base_uri": "https://localhost:8080/"
        },
        "id": "ePxXvv_zlzyS",
        "outputId": "fa13c5d5-0baa-4fbc-e9c4-d7de2ae39f81"
      },
      "source": [
        "Rv2['Rx'].mean()"
      ],
      "execution_count": null,
      "outputs": [
        {
          "output_type": "execute_result",
          "data": {
            "text/plain": [
              "63.31398898313552"
            ]
          },
          "metadata": {
            "tags": []
          },
          "execution_count": 71
        }
      ]
    },
    {
      "cell_type": "code",
      "metadata": {
        "colab": {
          "base_uri": "https://localhost:8080/"
        },
        "id": "EpvzWSnBl382",
        "outputId": "5fc72685-8875-4d4a-9b66-ea41b9f66e7d"
      },
      "source": [
        "Rv2['uRx'].max()"
      ],
      "execution_count": null,
      "outputs": [
        {
          "output_type": "execute_result",
          "data": {
            "text/plain": [
              "3.702892429666167"
            ]
          },
          "metadata": {
            "tags": []
          },
          "execution_count": 72
        }
      ]
    },
    {
      "cell_type": "code",
      "metadata": {
        "id": "jA6xk60Wmjz9"
      },
      "source": [
        ""
      ],
      "execution_count": null,
      "outputs": []
    },
    {
      "cell_type": "markdown",
      "metadata": {
        "id": "RQtawLDSmmF7"
      },
      "source": [
        "Dane pokrywają się z wartościami teoretycznymi"
      ]
    },
    {
      "cell_type": "markdown",
      "metadata": {
        "id": "z8rre6K-PZf8"
      },
      "source": [
        "##Wyniki"
      ]
    },
    {
      "cell_type": "code",
      "metadata": {
        "id": "eM5fJra7nDAV"
      },
      "source": [
        "lb = ['Opornik 2', 'Opornik 3', 'Opornik 4', 'Opornik 5']\n",
        "val = []\n",
        "unc = []\n",
        "for item in [R2, R3, R4, R5b]:\n",
        "  val.append(item['Rx'].mean())\n",
        "  unc.append(item['uRx'].mean())"
      ],
      "execution_count": null,
      "outputs": []
    },
    {
      "cell_type": "code",
      "metadata": {
        "id": "X9Fqrw0NQZIo"
      },
      "source": [
        "results = pd.DataFrame(\n",
        "    {\n",
        "        'opornik': lb,\n",
        "        'wartość[om]': val,\n",
        "        'niepewność[om]': unc\n",
        "    }\n",
        ")"
      ],
      "execution_count": null,
      "outputs": []
    },
    {
      "cell_type": "code",
      "metadata": {
        "colab": {
          "base_uri": "https://localhost:8080/",
          "height": 166
        },
        "id": "LmBfp_vjQu-m",
        "outputId": "c5c38a03-863e-43d1-9079-3f05a146edd7"
      },
      "source": [
        "results"
      ],
      "execution_count": null,
      "outputs": [
        {
          "output_type": "execute_result",
          "data": {
            "text/html": [
              "<div>\n",
              "<style scoped>\n",
              "    .dataframe tbody tr th:only-of-type {\n",
              "        vertical-align: middle;\n",
              "    }\n",
              "\n",
              "    .dataframe tbody tr th {\n",
              "        vertical-align: top;\n",
              "    }\n",
              "\n",
              "    .dataframe thead th {\n",
              "        text-align: right;\n",
              "    }\n",
              "</style>\n",
              "<table border=\"1\" class=\"dataframe\">\n",
              "  <thead>\n",
              "    <tr style=\"text-align: right;\">\n",
              "      <th></th>\n",
              "      <th>opornik</th>\n",
              "      <th>wartość[om]</th>\n",
              "      <th>niepewność[om]</th>\n",
              "    </tr>\n",
              "  </thead>\n",
              "  <tbody>\n",
              "    <tr>\n",
              "      <th>0</th>\n",
              "      <td>Opornik 2</td>\n",
              "      <td>35.641315</td>\n",
              "      <td>1.196223</td>\n",
              "    </tr>\n",
              "    <tr>\n",
              "      <th>1</th>\n",
              "      <td>Opornik 3</td>\n",
              "      <td>46.730382</td>\n",
              "      <td>1.230409</td>\n",
              "    </tr>\n",
              "    <tr>\n",
              "      <th>2</th>\n",
              "      <td>Opornik 4</td>\n",
              "      <td>70.143049</td>\n",
              "      <td>2.502326</td>\n",
              "    </tr>\n",
              "    <tr>\n",
              "      <th>3</th>\n",
              "      <td>Opornik 5</td>\n",
              "      <td>87.971921</td>\n",
              "      <td>2.457173</td>\n",
              "    </tr>\n",
              "  </tbody>\n",
              "</table>\n",
              "</div>"
            ],
            "text/plain": [
              "     opornik  wartość[om]  niepewność[om]\n",
              "0  Opornik 2    35.641315        1.196223\n",
              "1  Opornik 3    46.730382        1.230409\n",
              "2  Opornik 4    70.143049        2.502326\n",
              "3  Opornik 5    87.971921        2.457173"
            ]
          },
          "metadata": {
            "tags": []
          },
          "execution_count": 81
        }
      ]
    },
    {
      "cell_type": "code",
      "metadata": {
        "id": "cPP0Pc5QXeyb"
      },
      "source": [
        "lb = ['pierwsze 30 cm', 'srodek', 'ostatnie 30cm']\n",
        "val = []\n",
        "unc = []\n",
        "max_unc = []\n",
        "for item in [R5a, R5b, R5c]:\n",
        "  val.append(item['Rx'].mean())\n",
        "  unc.append(item['uRx'].mean())\n",
        "  max_unc.append(item['uRx'].max())\n"
      ],
      "execution_count": null,
      "outputs": []
    },
    {
      "cell_type": "code",
      "metadata": {
        "colab": {
          "base_uri": "https://localhost:8080/",
          "height": 136
        },
        "id": "7Ql9B-3cXvJb",
        "outputId": "837fa4d7-6468-4787-e285-f580ddf95974"
      },
      "source": [
        "R5 = pd.DataFrame(\n",
        "    {\n",
        "        'część': lb,\n",
        "        'średnia wartość': val,\n",
        "        'średnia niepewność': unc,\n",
        "        'największa niepewność': max_unc\n",
        "    }\n",
        ")\n",
        "R5"
      ],
      "execution_count": null,
      "outputs": [
        {
          "output_type": "execute_result",
          "data": {
            "text/html": [
              "<div>\n",
              "<style scoped>\n",
              "    .dataframe tbody tr th:only-of-type {\n",
              "        vertical-align: middle;\n",
              "    }\n",
              "\n",
              "    .dataframe tbody tr th {\n",
              "        vertical-align: top;\n",
              "    }\n",
              "\n",
              "    .dataframe thead th {\n",
              "        text-align: right;\n",
              "    }\n",
              "</style>\n",
              "<table border=\"1\" class=\"dataframe\">\n",
              "  <thead>\n",
              "    <tr style=\"text-align: right;\">\n",
              "      <th></th>\n",
              "      <th>część</th>\n",
              "      <th>średnia wartość</th>\n",
              "      <th>średnia niepewność</th>\n",
              "      <th>największa niepewność</th>\n",
              "    </tr>\n",
              "  </thead>\n",
              "  <tbody>\n",
              "    <tr>\n",
              "      <th>0</th>\n",
              "      <td>pierwsze 30 cm</td>\n",
              "      <td>85.021401</td>\n",
              "      <td>4.586669</td>\n",
              "      <td>9.995221</td>\n",
              "    </tr>\n",
              "    <tr>\n",
              "      <th>1</th>\n",
              "      <td>srodek</td>\n",
              "      <td>87.971921</td>\n",
              "      <td>2.457173</td>\n",
              "      <td>4.527638</td>\n",
              "    </tr>\n",
              "    <tr>\n",
              "      <th>2</th>\n",
              "      <td>ostatnie 30cm</td>\n",
              "      <td>99.882322</td>\n",
              "      <td>5.729182</td>\n",
              "      <td>20.288174</td>\n",
              "    </tr>\n",
              "  </tbody>\n",
              "</table>\n",
              "</div>"
            ],
            "text/plain": [
              "            część  średnia wartość  średnia niepewność  największa niepewność\n",
              "0  pierwsze 30 cm        85.021401            4.586669               9.995221\n",
              "1          srodek        87.971921            2.457173               4.527638\n",
              "2   ostatnie 30cm        99.882322            5.729182              20.288174"
            ]
          },
          "metadata": {
            "tags": []
          },
          "execution_count": 91
        }
      ]
    },
    {
      "cell_type": "code",
      "metadata": {
        "id": "FhL1s6tcYAnr"
      },
      "source": [
        "whiw"
      ],
      "execution_count": null,
      "outputs": []
    }
  ]
}